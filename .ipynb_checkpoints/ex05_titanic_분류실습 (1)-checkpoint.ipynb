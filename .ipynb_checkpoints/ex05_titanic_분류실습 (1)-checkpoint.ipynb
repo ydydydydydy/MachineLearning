{
 "cells": [
  {
   "cell_type": "markdown",
   "id": "c4e941ef",
   "metadata": {},
   "source": [
    "### 목표\n",
    "    - 타이타닉 데이터를 활용하여 생존자/사망자 예측해보자\n",
    "    - kaggle 경진대회에 참가하여 우리 점수를 확인해보자\n",
    "    - 머신러닝의 전체 과정을 체험해보자\n",
    "    \n",
    "#### 머신러닝 과정\n",
    "    - 1. 문제정의 : 목표설정, 어떤 모델\n",
    "    - 2. 데이터 수집 : 분류를 할거라면 class로 담긴 레이블이 있는 데이터 수집 같은\n",
    "    - 3. 데이터 전처리 : 이상치/결측치 처리, 특성 처리(특성공학)\n",
    "    - 4. 데이터 탐색(탐색적 데이터 분석): 기술 통계, 특성 과의 관계\n",
    "    - 5. 모델 선택 및 하이퍼파리미터 설정\n",
    "    - 6. 모델 선택 및 평가\n",
    "    - 7. 모델 서비스화\n",
    "    "
   ]
  },
  {
   "cell_type": "code",
   "execution_count": 1,
   "id": "33231e20",
   "metadata": {},
   "outputs": [],
   "source": [
    "import numpy as np\n",
    "import pandas as pd\n",
    "import matplotlib.pyplot as plt # 시각화 라이브러리\n",
    "import seaborn as sns # 시각화 라이브러리\n",
    "# train, test 분리하는 도구\n",
    "from sklearn.model_selection import train_test_split\n",
    "# 평가 도구\n",
    "from sklearn.metrics import accuracy_score\n",
    "# tree model - 사망/생존 이진분류\n",
    "from sklearn.tree import DecisionTreeClassifier"
   ]
  },
  {
   "cell_type": "markdown",
   "id": "94b2ad9f",
   "metadata": {},
   "source": [
    " 0   Survived  - 생존/ 사망 여부 (답 데이터, Class Label)  \n",
    " 1   Pclass    - 승객의 등급(1- 귀족층,2- 중간층,3- 하위계층)  \n",
    " 2   Name      - 이름        \n",
    " 3   Sex       - 성별(male, female)\n",
    " 4   Age       - 나이(0~  \n",
    " 5   SibSp     - 형제자매+배우자 수  \n",
    " 6   Parch     - 부모 + 자식 수  \n",
    " 7   Ticket    - 티겟 번호  \n",
    " 8   Fare      - 요금  \n",
    " 9   Cabin     - 객실번호  \n",
    " 10  Embarked  - 승선항  "
   ]
  },
  {
   "cell_type": "code",
   "execution_count": 2,
   "id": "84b8b3dd",
   "metadata": {
    "scrolled": true
   },
   "outputs": [
    {
     "name": "stdout",
     "output_type": "stream",
     "text": [
      "<class 'pandas.core.frame.DataFrame'>\n",
      "Int64Index: 891 entries, 1 to 891\n",
      "Data columns (total 11 columns):\n",
      " #   Column    Non-Null Count  Dtype  \n",
      "---  ------    --------------  -----  \n",
      " 0   Survived  891 non-null    int64  \n",
      " 1   Pclass    891 non-null    int64  \n",
      " 2   Name      891 non-null    object \n",
      " 3   Sex       891 non-null    object \n",
      " 4   Age       714 non-null    float64\n",
      " 5   SibSp     891 non-null    int64  \n",
      " 6   Parch     891 non-null    int64  \n",
      " 7   Ticket    891 non-null    object \n",
      " 8   Fare      891 non-null    float64\n",
      " 9   Cabin     204 non-null    object \n",
      " 10  Embarked  889 non-null    object \n",
      "dtypes: float64(2), int64(4), object(5)\n",
      "memory usage: 83.5+ KB\n",
      "<class 'pandas.core.frame.DataFrame'>\n",
      "Int64Index: 418 entries, 892 to 1309\n",
      "Data columns (total 10 columns):\n",
      " #   Column    Non-Null Count  Dtype  \n",
      "---  ------    --------------  -----  \n",
      " 0   Pclass    418 non-null    int64  \n",
      " 1   Name      418 non-null    object \n",
      " 2   Sex       418 non-null    object \n",
      " 3   Age       332 non-null    float64\n",
      " 4   SibSp     418 non-null    int64  \n",
      " 5   Parch     418 non-null    int64  \n",
      " 6   Ticket    418 non-null    object \n",
      " 7   Fare      417 non-null    float64\n",
      " 8   Cabin     91 non-null     object \n",
      " 9   Embarked  418 non-null    object \n",
      "dtypes: float64(2), int64(3), object(5)\n",
      "memory usage: 35.9+ KB\n"
     ]
    }
   ],
   "source": [
    "# train , test 변수에 데이터 불러와서 담기\n",
    "# 단, 인덱스를 승객의 번호로 설정해서 담아줄 것\n",
    "train = pd.read_csv('data/titanic/train.csv', index_col = 'PassengerId')\n",
    "test = pd.read_csv('data/titanic/test.csv', index_col = 'PassengerId')\n",
    "train.info()\n",
    "test.info()"
   ]
  },
  {
   "cell_type": "code",
   "execution_count": 3,
   "id": "d90191aa",
   "metadata": {
    "scrolled": true
   },
   "outputs": [
    {
     "name": "stdout",
     "output_type": "stream",
     "text": [
      "트레인 크기: (891, 11)\n",
      "테스트 크기: (418, 10)\n"
     ]
    }
   ],
   "source": [
    "# 크기 확인\n",
    "print('트레인 크기:', train.shape)\n",
    "print('테스트 크기:', test.shape) # test 정답 데이터 x (-1)"
   ]
  },
  {
   "cell_type": "code",
   "execution_count": 4,
   "id": "9e5f88b6",
   "metadata": {
    "scrolled": true
   },
   "outputs": [
    {
     "name": "stdout",
     "output_type": "stream",
     "text": [
      "Index(['Survived', 'Pclass', 'Name', 'Sex', 'Age', 'SibSp', 'Parch', 'Ticket',\n",
      "       'Fare', 'Cabin', 'Embarked'],\n",
      "      dtype='object')\n",
      "Index(['Pclass', 'Name', 'Sex', 'Age', 'SibSp', 'Parch', 'Ticket', 'Fare',\n",
      "       'Cabin', 'Embarked'],\n",
      "      dtype='object')\n"
     ]
    }
   ],
   "source": [
    "# 컬럼명만 뽑아서 확인하기\n",
    "print(train.columns)\n",
    "print(test.columns)\n",
    "\n",
    "# 컬럼의 순서도 중요함\n",
    "# 컬럼의 명도 동일해야 함"
   ]
  },
  {
   "cell_type": "markdown",
   "id": "2aec92ed",
   "metadata": {},
   "source": [
    "### 데이터 전처리 및 데이터 탐색\n",
    "#### 결측치 확인\n"
   ]
  },
  {
   "cell_type": "code",
   "execution_count": 5,
   "id": "1b4b4d17",
   "metadata": {},
   "outputs": [
    {
     "name": "stdout",
     "output_type": "stream",
     "text": [
      "<class 'pandas.core.frame.DataFrame'>\n",
      "Int64Index: 891 entries, 1 to 891\n",
      "Data columns (total 11 columns):\n",
      " #   Column    Non-Null Count  Dtype  \n",
      "---  ------    --------------  -----  \n",
      " 0   Survived  891 non-null    int64  \n",
      " 1   Pclass    891 non-null    int64  \n",
      " 2   Name      891 non-null    object \n",
      " 3   Sex       891 non-null    object \n",
      " 4   Age       714 non-null    float64\n",
      " 5   SibSp     891 non-null    int64  \n",
      " 6   Parch     891 non-null    int64  \n",
      " 7   Ticket    891 non-null    object \n",
      " 8   Fare      891 non-null    float64\n",
      " 9   Cabin     204 non-null    object \n",
      " 10  Embarked  889 non-null    object \n",
      "dtypes: float64(2), int64(4), object(5)\n",
      "memory usage: 83.5+ KB\n"
     ]
    }
   ],
   "source": [
    "# info 함수 통해서 train 결측치 확인\n",
    "train.info()\n",
    "# 결측치 존재 컬럼 Age, Cabin, Embarked"
   ]
  },
  {
   "cell_type": "code",
   "execution_count": 6,
   "id": "1372c1f9",
   "metadata": {},
   "outputs": [
    {
     "name": "stdout",
     "output_type": "stream",
     "text": [
      "<class 'pandas.core.frame.DataFrame'>\n",
      "Int64Index: 418 entries, 892 to 1309\n",
      "Data columns (total 10 columns):\n",
      " #   Column    Non-Null Count  Dtype  \n",
      "---  ------    --------------  -----  \n",
      " 0   Pclass    418 non-null    int64  \n",
      " 1   Name      418 non-null    object \n",
      " 2   Sex       418 non-null    object \n",
      " 3   Age       332 non-null    float64\n",
      " 4   SibSp     418 non-null    int64  \n",
      " 5   Parch     418 non-null    int64  \n",
      " 6   Ticket    418 non-null    object \n",
      " 7   Fare      417 non-null    float64\n",
      " 8   Cabin     91 non-null     object \n",
      " 9   Embarked  418 non-null    object \n",
      "dtypes: float64(2), int64(3), object(5)\n",
      "memory usage: 35.9+ KB\n"
     ]
    }
   ],
   "source": [
    "# info 함수 통해서 test 결측치 확인\n",
    "test.info()\n",
    "# 결측치 존재 컬럼 Age, Cabin"
   ]
  },
  {
   "cell_type": "code",
   "execution_count": 7,
   "id": "4d9d93da",
   "metadata": {
    "scrolled": true
   },
   "outputs": [
    {
     "data": {
      "text/plain": [
       "Pclass        0\n",
       "Name          0\n",
       "Sex           0\n",
       "Age          86\n",
       "SibSp         0\n",
       "Parch         0\n",
       "Ticket        0\n",
       "Fare          1\n",
       "Cabin       327\n",
       "Embarked      0\n",
       "dtype: int64"
      ]
     },
     "execution_count": 7,
     "metadata": {},
     "output_type": "execute_result"
    }
   ],
   "source": [
    "# pandas 함수 통해서 test 결측치 확인\n",
    "# 데이터 자리에 결측치가 있니? -> 데이터.isnull()\n",
    "test.isnull().sum()\n",
    "# 결측치 존재 컬럼 : Age, Cabin, Fare\n",
    "# 결측치(행)를 삭제하기 보다 채우면서 처리해보겠음"
   ]
  },
  {
   "cell_type": "markdown",
   "id": "0145842f",
   "metadata": {},
   "source": [
    "#### train-Embarked 결측치 처리\n",
    "    - 승객이 탑승한 항구 이름\n",
    "    "
   ]
  },
  {
   "cell_type": "code",
   "execution_count": 8,
   "id": "ea36a4dc",
   "metadata": {},
   "outputs": [
    {
     "data": {
      "text/plain": [
       "S    644\n",
       "C    168\n",
       "Q     77\n",
       "Name: Embarked, dtype: int64"
      ]
     },
     "execution_count": 8,
     "metadata": {},
     "output_type": "execute_result"
    }
   ],
   "source": [
    "# train 데이터 기준으로 Embarked 컬럼 확인\n",
    "# nan 결측치\n",
    "train['Embarked'].unique()\n",
    "\n",
    "# 빈도수가 높은 승선항 알파벳으로 결측치를 처리해보자\n",
    "train['Embarked'].value_counts() # 대문자S 644로 채워보자!"
   ]
  },
  {
   "cell_type": "code",
   "execution_count": 9,
   "id": "9524045e",
   "metadata": {},
   "outputs": [],
   "source": [
    "# test 안보나요?\n",
    "# 탐색용 데이터는 train , \n",
    "# 모델 학습 : 모델이 학습을 잘하도록 데이터를 세팅\n",
    "# test 데이터는 모델을 일반화시키는데 도움이 되지 않음\n",
    "# train 데이터가 학습할 때 사용되고 모델의 일반화에 도움을 줌"
   ]
  },
  {
   "cell_type": "code",
   "execution_count": 10,
   "id": "51bcd16d",
   "metadata": {},
   "outputs": [
    {
     "data": {
      "text/plain": [
       "S    646\n",
       "C    168\n",
       "Q     77\n",
       "Name: Embarked, dtype: int64"
      ]
     },
     "execution_count": 10,
     "metadata": {},
     "output_type": "execute_result"
    }
   ],
   "source": [
    "# Embarked 결측치를 'S'로 채우기\n",
    "# fillna(채울값)\n",
    "train['Embarked'] = train['Embarked'].fillna('S')\n",
    "train['Embarked'].unique()\n",
    "train['Embarked'].value_counts()"
   ]
  },
  {
   "cell_type": "code",
   "execution_count": 11,
   "id": "1aa6550c",
   "metadata": {},
   "outputs": [],
   "source": [
    "# 추가) Embarked 컬럼에 결측치가 있던 행의 정보를 확인하고\n",
    "# 비슷한 사람의 데이터가 있다면 그 사람의 승선항 정보를 대체값으로 활용"
   ]
  },
  {
   "cell_type": "markdown",
   "id": "7e799f91",
   "metadata": {},
   "source": [
    "#### test - Fare 결측치 처리\n",
    "     - 요금 평균, 중앙값 계산 가능\n",
    "     - 데이터 분석을 진행하면서 관련이 있을 법한 컬럼을 연관지어서 대체값을 확인해보자 "
   ]
  },
  {
   "cell_type": "code",
   "execution_count": 12,
   "id": "b1c78515",
   "metadata": {},
   "outputs": [
    {
     "data": {
      "text/plain": [
       "count    891.000000\n",
       "mean      32.204208\n",
       "std       49.693429\n",
       "min        0.000000\n",
       "25%        7.910400\n",
       "50%       14.454200\n",
       "75%       31.000000\n",
       "max      512.329200\n",
       "Name: Fare, dtype: float64"
      ]
     },
     "execution_count": 12,
     "metadata": {},
     "output_type": "execute_result"
    }
   ],
   "source": [
    "# train 기준으로 데이터 탐색\n",
    "# Fare 컬럼 정보 확인 -> 기술통계량\n",
    "train['Fare'].describe()\n",
    "# 요금의 대표값으로 평균보다 중앙이 더 나을 수 있겠음"
   ]
  },
  {
   "cell_type": "code",
   "execution_count": 13,
   "id": "c4b81a23",
   "metadata": {},
   "outputs": [
    {
     "name": "stderr",
     "output_type": "stream",
     "text": [
      "C:\\Users\\gjaischool\\AppData\\Local\\Temp\\ipykernel_17520\\2988469850.py:7: FutureWarning: The default value of numeric_only in DataFrame.corr is deprecated. In a future version, it will default to False. Select only valid columns or specify the value of numeric_only to silence this warning.\n",
      "  train.corr()['Survived'].abs()\n"
     ]
    },
    {
     "data": {
      "text/plain": [
       "Survived    1.000000\n",
       "Pclass      0.338481\n",
       "Age         0.077221\n",
       "SibSp       0.035322\n",
       "Parch       0.081629\n",
       "Fare        0.257307\n",
       "Name: Survived, dtype: float64"
      ]
     },
     "execution_count": 13,
     "metadata": {},
     "output_type": "execute_result"
    }
   ],
   "source": [
    "# 변수(특성) 간의 상관관계 확인\n",
    "# 상관계수(숫자) : -1 ~ 1\n",
    "# 각 컬럼의 상관 정도를 수치로 표현한 값 : 상관계수\n",
    "# -1, 1에 가까울수록 변수간의 관계성이 있음\n",
    "# 0에 가까울수록 변수간의 관계성이 적음\n",
    "# 생존 사망과 연관이 있는 컬럼 확인해보기\n",
    "train.corr()['Survived'].abs() \n",
    "# Pclass가 생존/사망 연관성이 있을 수 있겠다\n",
    "# 등급에 따라 요금의 중앙값으로 채워주는 것도 의미가 있지 않을까? "
   ]
  },
  {
   "cell_type": "code",
   "execution_count": 14,
   "id": "2c2e39b0",
   "metadata": {
    "scrolled": true
   },
   "outputs": [
    {
     "data": {
      "text/html": [
       "<div>\n",
       "<style scoped>\n",
       "    .dataframe tbody tr th:only-of-type {\n",
       "        vertical-align: middle;\n",
       "    }\n",
       "\n",
       "    .dataframe tbody tr th {\n",
       "        vertical-align: top;\n",
       "    }\n",
       "\n",
       "    .dataframe thead th {\n",
       "        text-align: right;\n",
       "    }\n",
       "</style>\n",
       "<table border=\"1\" class=\"dataframe\">\n",
       "  <thead>\n",
       "    <tr style=\"text-align: right;\">\n",
       "      <th></th>\n",
       "      <th>Fare</th>\n",
       "    </tr>\n",
       "    <tr>\n",
       "      <th>Pclass</th>\n",
       "      <th></th>\n",
       "    </tr>\n",
       "  </thead>\n",
       "  <tbody>\n",
       "    <tr>\n",
       "      <th>1</th>\n",
       "      <td>60.2875</td>\n",
       "    </tr>\n",
       "    <tr>\n",
       "      <th>2</th>\n",
       "      <td>14.2500</td>\n",
       "    </tr>\n",
       "    <tr>\n",
       "      <th>3</th>\n",
       "      <td>8.0500</td>\n",
       "    </tr>\n",
       "  </tbody>\n",
       "</table>\n",
       "</div>"
      ],
      "text/plain": [
       "           Fare\n",
       "Pclass         \n",
       "1       60.2875\n",
       "2       14.2500\n",
       "3        8.0500"
      ]
     },
     "execution_count": 14,
     "metadata": {},
     "output_type": "execute_result"
    }
   ],
   "source": [
    "# 1. Pclass, Fare 두 개 컬럼만 인덱싱 해보기\n",
    "# 2. Pclass 1,2,3 등급끼리 묶기(그룹화하기)\n",
    "# 3. median() 집계함수 연결\n",
    "# * 집계함수(count(), mean(), min(), max(), median())\n",
    "train[['Pclass','Fare']].groupby('Pclass').median()"
   ]
  },
  {
   "cell_type": "code",
   "execution_count": 15,
   "id": "3c9a1508",
   "metadata": {
    "scrolled": true
   },
   "outputs": [
    {
     "data": {
      "text/html": [
       "<div>\n",
       "<style scoped>\n",
       "    .dataframe tbody tr th:only-of-type {\n",
       "        vertical-align: middle;\n",
       "    }\n",
       "\n",
       "    .dataframe tbody tr th {\n",
       "        vertical-align: top;\n",
       "    }\n",
       "\n",
       "    .dataframe thead th {\n",
       "        text-align: right;\n",
       "    }\n",
       "</style>\n",
       "<table border=\"1\" class=\"dataframe\">\n",
       "  <thead>\n",
       "    <tr style=\"text-align: right;\">\n",
       "      <th></th>\n",
       "      <th>Pclass</th>\n",
       "      <th>Name</th>\n",
       "      <th>Sex</th>\n",
       "      <th>Age</th>\n",
       "      <th>SibSp</th>\n",
       "      <th>Parch</th>\n",
       "      <th>Ticket</th>\n",
       "      <th>Fare</th>\n",
       "      <th>Cabin</th>\n",
       "      <th>Embarked</th>\n",
       "    </tr>\n",
       "    <tr>\n",
       "      <th>PassengerId</th>\n",
       "      <th></th>\n",
       "      <th></th>\n",
       "      <th></th>\n",
       "      <th></th>\n",
       "      <th></th>\n",
       "      <th></th>\n",
       "      <th></th>\n",
       "      <th></th>\n",
       "      <th></th>\n",
       "      <th></th>\n",
       "    </tr>\n",
       "  </thead>\n",
       "  <tbody>\n",
       "  </tbody>\n",
       "</table>\n",
       "</div>"
      ],
      "text/plain": [
       "Empty DataFrame\n",
       "Columns: [Pclass, Name, Sex, Age, SibSp, Parch, Ticket, Fare, Cabin, Embarked]\n",
       "Index: []"
      ]
     },
     "execution_count": 15,
     "metadata": {},
     "output_type": "execute_result"
    }
   ],
   "source": [
    "# test - Fare 컬럼에 결측치가 있는 행 정보 출력하기\n",
    "test[test['Fare'].isnull()]\n",
    "\n",
    "# fillna() 를 활용해서 Fare 결측치 채워보기\n",
    "# 3등급 -> 8.0500\n",
    "# 1. test Fare 컬럼 접근\n",
    "# 2. fillna() 사용해서 8.0500으로 채워보기\n",
    "# 2번까지 했을 때 결측치가 없으면 test Fare 컬럼에 다시 초기화\n",
    "test['Fare'] = test['Fare'].fillna(8.0500)\n",
    "test[test['Fare'].isnull()] # 결측치 처리 완료!"
   ]
  },
  {
   "cell_type": "markdown",
   "id": "4f990129",
   "metadata": {},
   "source": [
    "#### Age 컬럼 결측치 채우기\n",
    "    - 단순 기술 통계로만 채우지 않고, 다른 컬럼과의 상관관계를 이용해서 결측치를 채워보는 방향으로 진행해보자\n",
    "    - Pclass, Sex 과 연관지어서 나이 통계 확인해보자"
   ]
  },
  {
   "cell_type": "code",
   "execution_count": 16,
   "id": "e5263da6",
   "metadata": {},
   "outputs": [
    {
     "data": {
      "text/plain": [
       "count    714.000000\n",
       "mean      29.699118\n",
       "std       14.526497\n",
       "min        0.420000\n",
       "25%       20.125000\n",
       "50%       28.000000\n",
       "75%       38.000000\n",
       "max       80.000000\n",
       "Name: Age, dtype: float64"
      ]
     },
     "execution_count": 16,
     "metadata": {},
     "output_type": "execute_result"
    }
   ],
   "source": [
    "# train Age 컬럼 접근해서 기술 통계량 확인하기\n",
    "train['Age'].describe()"
   ]
  },
  {
   "cell_type": "code",
   "execution_count": 17,
   "id": "90fb98bc",
   "metadata": {},
   "outputs": [
    {
     "data": {
      "text/html": [
       "<div>\n",
       "<style scoped>\n",
       "    .dataframe tbody tr th:only-of-type {\n",
       "        vertical-align: middle;\n",
       "    }\n",
       "\n",
       "    .dataframe tbody tr th {\n",
       "        vertical-align: top;\n",
       "    }\n",
       "\n",
       "    .dataframe thead th {\n",
       "        text-align: right;\n",
       "    }\n",
       "</style>\n",
       "<table border=\"1\" class=\"dataframe\">\n",
       "  <thead>\n",
       "    <tr style=\"text-align: right;\">\n",
       "      <th></th>\n",
       "      <th></th>\n",
       "      <th>Age</th>\n",
       "    </tr>\n",
       "    <tr>\n",
       "      <th>Pclass</th>\n",
       "      <th>Sex</th>\n",
       "      <th></th>\n",
       "    </tr>\n",
       "  </thead>\n",
       "  <tbody>\n",
       "    <tr>\n",
       "      <th rowspan=\"2\" valign=\"top\">1</th>\n",
       "      <th>female</th>\n",
       "      <td>34.611765</td>\n",
       "    </tr>\n",
       "    <tr>\n",
       "      <th>male</th>\n",
       "      <td>41.281386</td>\n",
       "    </tr>\n",
       "    <tr>\n",
       "      <th rowspan=\"2\" valign=\"top\">2</th>\n",
       "      <th>female</th>\n",
       "      <td>28.722973</td>\n",
       "    </tr>\n",
       "    <tr>\n",
       "      <th>male</th>\n",
       "      <td>30.740707</td>\n",
       "    </tr>\n",
       "    <tr>\n",
       "      <th rowspan=\"2\" valign=\"top\">3</th>\n",
       "      <th>female</th>\n",
       "      <td>21.750000</td>\n",
       "    </tr>\n",
       "    <tr>\n",
       "      <th>male</th>\n",
       "      <td>26.507589</td>\n",
       "    </tr>\n",
       "  </tbody>\n",
       "</table>\n",
       "</div>"
      ],
      "text/plain": [
       "                     Age\n",
       "Pclass Sex              \n",
       "1      female  34.611765\n",
       "       male    41.281386\n",
       "2      female  28.722973\n",
       "       male    30.740707\n",
       "3      female  21.750000\n",
       "       male    26.507589"
      ]
     },
     "execution_count": 17,
     "metadata": {},
     "output_type": "execute_result"
    }
   ],
   "source": [
    "# 1 - 여성 - 나이 평균\n",
    "# 1 - 남성 - 나이 평균\n",
    "# 2 - 여성 - 나이 평균\n",
    "# 2 - 남성 - 나이 평균\n",
    "# 3 - 여성 - 나이 평균\n",
    "# 3 - 남성 - 나이 평균\n",
    "# 3개 - Pclass, Age, Sex\n",
    "# train.loc[:,['Pclass', 'Age', 'Sex']]\n",
    "gb1 = train[['Pclass', 'Age', 'Sex']].groupby(['Pclass','Sex']).mean()\n",
    "gb1"
   ]
  },
  {
   "cell_type": "code",
   "execution_count": 18,
   "id": "8422fb2a",
   "metadata": {},
   "outputs": [
    {
     "data": {
      "text/plain": [
       "Age    41.281386\n",
       "Name: (1, male), dtype: float64"
      ]
     },
     "execution_count": 18,
     "metadata": {},
     "output_type": "execute_result"
    }
   ],
   "source": [
    "# gb1\n",
    "# 인덱스가 2개 => 멀티인덱스(중복인덱스)\n",
    "# 3, female 나이 평균데이터 접근해보기\n",
    "gb1.loc[(3,'female')]\n",
    "\n",
    "# 1, male 평균 나이 접근해보기\n",
    "gb1.loc[(1,'male')]"
   ]
  },
  {
   "cell_type": "code",
   "execution_count": 19,
   "id": "b7b5cd18",
   "metadata": {},
   "outputs": [
    {
     "data": {
      "text/plain": [
       "array([ 1.,  2., nan])"
      ]
     },
     "execution_count": 19,
     "metadata": {},
     "output_type": "execute_result"
    }
   ],
   "source": [
    "# 추가적으로 이해하는 코드\n",
    "# numpy null 값 확인하는 함수\n",
    "# Nan\n",
    "# np.nan 결측치 표현\n",
    "a = np.array([1,2, np.nan])\n",
    "a"
   ]
  },
  {
   "cell_type": "code",
   "execution_count": 20,
   "id": "b2bdb194",
   "metadata": {
    "scrolled": true
   },
   "outputs": [
    {
     "name": "stdout",
     "output_type": "stream",
     "text": [
      "<class 'pandas.core.frame.DataFrame'>\n",
      "Int64Index: 891 entries, 1 to 891\n",
      "Data columns (total 11 columns):\n",
      " #   Column    Non-Null Count  Dtype  \n",
      "---  ------    --------------  -----  \n",
      " 0   Survived  891 non-null    int64  \n",
      " 1   Pclass    891 non-null    int64  \n",
      " 2   Name      891 non-null    object \n",
      " 3   Sex       891 non-null    object \n",
      " 4   Age       714 non-null    float64\n",
      " 5   SibSp     891 non-null    int64  \n",
      " 6   Parch     891 non-null    int64  \n",
      " 7   Ticket    891 non-null    object \n",
      " 8   Fare      891 non-null    float64\n",
      " 9   Cabin     204 non-null    object \n",
      " 10  Embarked  891 non-null    object \n",
      "dtypes: float64(2), int64(4), object(5)\n",
      "memory usage: 83.5+ KB\n"
     ]
    }
   ],
   "source": [
    "# train, test 결측치\n",
    "# train Age 컬럼의 결측치가 있는 행 정보 출력해보기\n",
    "# 1. Age 접근\n",
    "# 2. null 확인\n",
    "# 3. boolean 인덱싱 적용 -> 행 정보 출력됨\n",
    "train[train['Age'].isnull()]\n",
    "\n",
    "# 복잡한 처리를 해줄 수 있는 도구가 있나?\n",
    "# 사용자 정의 함수 생성: Pclass, Sex 을 확인해서 gb1에 있는 평균나이로 대체\n",
    "# 판다스 데이터랑 어떻게 연결? apply()\n",
    "def fill_age(data) :\n",
    "    # 만약 나이가 결측치라면 gb1에서 대체할 값을 가져오고 반환\n",
    "    if np.isnan(data['Age']):\n",
    "        gb1_age = gb1.loc[(data['Pclass'], data['Sex'])]\n",
    "        return gb1_age\n",
    "    # 결측치가 x 원래 나이 값을 반환\n",
    "    else:\n",
    "        return data['Age']\n",
    "    \n",
    "train.apply(fill_age, axis = 1).astype('int64') # axis = 1 한사람의 대한 정보가 처리단위로 연결\n",
    "train.info()"
   ]
  },
  {
   "cell_type": "code",
   "execution_count": 21,
   "id": "ee7eeafb",
   "metadata": {},
   "outputs": [],
   "source": [
    "# test Age 컬럼 결측치 처리하기\n",
    "test['Age'] = test.apply(fill_age, axis = 1).astype('int64')"
   ]
  },
  {
   "cell_type": "markdown",
   "id": "ce745d60",
   "metadata": {},
   "source": [
    "#### Cabin 컬럼 결측치 채우기"
   ]
  },
  {
   "cell_type": "code",
   "execution_count": 22,
   "id": "5ab7a3b4",
   "metadata": {},
   "outputs": [
    {
     "data": {
      "text/plain": [
       "array([nan, 'C85', 'C123', 'E46', 'G6', 'C103', 'D56', 'A6',\n",
       "       'C23 C25 C27', 'B78', 'D33', 'B30', 'C52', 'B28', 'C83', 'F33',\n",
       "       'F G73', 'E31', 'A5', 'D10 D12', 'D26', 'C110', 'B58 B60', 'E101',\n",
       "       'F E69', 'D47', 'B86', 'F2', 'C2', 'E33', 'B19', 'A7', 'C49', 'F4',\n",
       "       'A32', 'B4', 'B80', 'A31', 'D36', 'D15', 'C93', 'C78', 'D35',\n",
       "       'C87', 'B77', 'E67', 'B94', 'C125', 'C99', 'C118', 'D7', 'A19',\n",
       "       'B49', 'D', 'C22 C26', 'C106', 'C65', 'E36', 'C54',\n",
       "       'B57 B59 B63 B66', 'C7', 'E34', 'C32', 'B18', 'C124', 'C91', 'E40',\n",
       "       'T', 'C128', 'D37', 'B35', 'E50', 'C82', 'B96 B98', 'E10', 'E44',\n",
       "       'A34', 'C104', 'C111', 'C92', 'E38', 'D21', 'E12', 'E63', 'A14',\n",
       "       'B37', 'C30', 'D20', 'B79', 'E25', 'D46', 'B73', 'C95', 'B38',\n",
       "       'B39', 'B22', 'C86', 'C70', 'A16', 'C101', 'C68', 'A10', 'E68',\n",
       "       'B41', 'A20', 'D19', 'D50', 'D9', 'A23', 'B50', 'A26', 'D48',\n",
       "       'E58', 'C126', 'B71', 'B51 B53 B55', 'D49', 'B5', 'B20', 'F G63',\n",
       "       'C62 C64', 'E24', 'C90', 'C45', 'E8', 'B101', 'D45', 'C46', 'D30',\n",
       "       'E121', 'D11', 'E77', 'F38', 'B3', 'D6', 'B82 B84', 'D17', 'A36',\n",
       "       'B102', 'B69', 'E49', 'C47', 'D28', 'E17', 'A24', 'C50', 'B42',\n",
       "       'C148'], dtype=object)"
      ]
     },
     "execution_count": 22,
     "metadata": {},
     "output_type": "execute_result"
    }
   ],
   "source": [
    "# train Cabin 컬럼 접근해보기\n",
    "train['Cabin'].unique()"
   ]
  },
  {
   "cell_type": "code",
   "execution_count": 23,
   "id": "377b0ddc",
   "metadata": {},
   "outputs": [
    {
     "name": "stdout",
     "output_type": "stream",
     "text": [
      "<class 'pandas.core.frame.DataFrame'>\n",
      "Int64Index: 891 entries, 1 to 891\n",
      "Data columns (total 11 columns):\n",
      " #   Column    Non-Null Count  Dtype  \n",
      "---  ------    --------------  -----  \n",
      " 0   Survived  891 non-null    int64  \n",
      " 1   Pclass    891 non-null    int64  \n",
      " 2   Name      891 non-null    object \n",
      " 3   Sex       891 non-null    object \n",
      " 4   Age       714 non-null    float64\n",
      " 5   SibSp     891 non-null    int64  \n",
      " 6   Parch     891 non-null    int64  \n",
      " 7   Ticket    891 non-null    object \n",
      " 8   Fare      891 non-null    float64\n",
      " 9   Cabin     891 non-null    object \n",
      " 10  Embarked  891 non-null    object \n",
      "dtypes: float64(2), int64(4), object(5)\n",
      "memory usage: 83.5+ KB\n",
      "<class 'pandas.core.frame.DataFrame'>\n",
      "Int64Index: 418 entries, 892 to 1309\n",
      "Data columns (total 10 columns):\n",
      " #   Column    Non-Null Count  Dtype  \n",
      "---  ------    --------------  -----  \n",
      " 0   Pclass    418 non-null    int64  \n",
      " 1   Name      418 non-null    object \n",
      " 2   Sex       418 non-null    object \n",
      " 3   Age       418 non-null    int64  \n",
      " 4   SibSp     418 non-null    int64  \n",
      " 5   Parch     418 non-null    int64  \n",
      " 6   Ticket    418 non-null    object \n",
      " 7   Fare      418 non-null    float64\n",
      " 8   Cabin     418 non-null    object \n",
      " 9   Embarked  418 non-null    object \n",
      "dtypes: float64(1), int64(4), object(5)\n",
      "memory usage: 35.9+ KB\n"
     ]
    }
   ],
   "source": [
    "# 'M' 임의로 Cabin 결측치를 채워보기\n",
    "# train, test\n",
    "# fillna()\n",
    "#train['Cabin'] = train['Cabin'].fillna('M')\n",
    "train['Cabin'].fillna('M', inplace = True)\n",
    "test['Cabin'].fillna('M', inplace = True)\n",
    "\n",
    "# 확인\n",
    "train.info()\n",
    "test.info()"
   ]
  },
  {
   "cell_type": "code",
   "execution_count": 24,
   "id": "cede0ecb",
   "metadata": {},
   "outputs": [],
   "source": [
    "# train Cabin 접근해서 살펴보기\n",
    "train['Cabin'][2][0]\n",
    "# pandas.str 해당 컬럼에 문자열 자료에 접근하는 키워드\n",
    "train['Deck'] = train['Cabin'].str[0] # Deck 이라는 새로운 컬럼명 생성하여 저장\n",
    "# test도 실행해보기\n",
    "test['Deck'] = test['Cabin'].str[0]"
   ]
  },
  {
   "cell_type": "code",
   "execution_count": 25,
   "id": "543d996e",
   "metadata": {
    "scrolled": true
   },
   "outputs": [
    {
     "name": "stdout",
     "output_type": "stream",
     "text": [
      "<class 'pandas.core.frame.DataFrame'>\n",
      "Int64Index: 891 entries, 1 to 891\n",
      "Data columns (total 11 columns):\n",
      " #   Column    Non-Null Count  Dtype  \n",
      "---  ------    --------------  -----  \n",
      " 0   Survived  891 non-null    int64  \n",
      " 1   Pclass    891 non-null    int64  \n",
      " 2   Name      891 non-null    object \n",
      " 3   Sex       891 non-null    object \n",
      " 4   Age       714 non-null    float64\n",
      " 5   SibSp     891 non-null    int64  \n",
      " 6   Parch     891 non-null    int64  \n",
      " 7   Ticket    891 non-null    object \n",
      " 8   Fare      891 non-null    float64\n",
      " 9   Embarked  891 non-null    object \n",
      " 10  Deck      891 non-null    object \n",
      "dtypes: float64(2), int64(4), object(5)\n",
      "memory usage: 115.8+ KB\n",
      "<class 'pandas.core.frame.DataFrame'>\n",
      "Int64Index: 418 entries, 892 to 1309\n",
      "Data columns (total 10 columns):\n",
      " #   Column    Non-Null Count  Dtype  \n",
      "---  ------    --------------  -----  \n",
      " 0   Pclass    418 non-null    int64  \n",
      " 1   Name      418 non-null    object \n",
      " 2   Sex       418 non-null    object \n",
      " 3   Age       418 non-null    int64  \n",
      " 4   SibSp     418 non-null    int64  \n",
      " 5   Parch     418 non-null    int64  \n",
      " 6   Ticket    418 non-null    object \n",
      " 7   Fare      418 non-null    float64\n",
      " 8   Embarked  418 non-null    object \n",
      " 9   Deck      418 non-null    object \n",
      "dtypes: float64(1), int64(4), object(5)\n",
      "memory usage: 35.9+ KB\n"
     ]
    }
   ],
   "source": [
    "# Cabin 컬럼 삭제하기 : df.drop('대상',)\n",
    "# train, test\n",
    "# train = train.drop('Cabin', axis = 1)\n",
    "train.drop('Cabin', axis = 1, inplace = True)\n",
    "test.drop('Cabin', axis = 1, inplace = True)\n",
    "# info() 확인\n",
    "train.info()\n",
    "test.info()"
   ]
  },
  {
   "cell_type": "markdown",
   "id": "d0f34a37",
   "metadata": {},
   "source": [
    "#### 데이터 탐색\n",
    "    - train 데이터를 이용해서 탐색 진행함\n",
    "    - test 를 탐색하는 것은 모델의 일반화에 도움 안됨\n",
    "    - Deck 컬럼이 생존/사망과 얼마나 연관이 있는지 확인해보기"
   ]
  },
  {
   "cell_type": "code",
   "execution_count": 26,
   "id": "2239689c",
   "metadata": {},
   "outputs": [
    {
     "data": {
      "image/png": "[encoded data removed]",
      "text/plain": [
       "<Figure size 640x480 with 1 Axes>"
      ]
     },
     "metadata": {},
     "output_type": "display_data"
    }
   ],
   "source": [
    "# x - Deck, y - Survived\n",
    "sns.countplot(data = train, x = 'Deck', hue = 'Survived')\n",
    "plt.show()"
   ]
  },
  {
   "cell_type": "markdown",
   "id": "3351530a",
   "metadata": {},
   "source": [
    "- M에서 상대적으로 사람이 많이 사망했음\n",
    "- Pclass와 Survived 컬럼의 관계확인(생존/사망 연관)"
   ]
  },
  {
   "cell_type": "code",
   "execution_count": 27,
   "id": "7aa47515",
   "metadata": {},
   "outputs": [
    {
     "data": {
      "image/png": "[encoded data removed]",
      "text/plain": [
       "<Figure size 640x480 with 1 Axes>"
      ]
     },
     "metadata": {},
     "output_type": "display_data"
    }
   ],
   "source": [
    "sns.countplot(data = train, x = 'Pclass', hue = 'Survived')\n",
    "plt.show()"
   ]
  },
  {
   "cell_type": "markdown",
   "id": "c188cdda",
   "metadata": {},
   "source": [
    "- 승객의 등급이 높을 수록 비교적 생존율 높음\n",
    "- 3등급의 승객들은 많이 사망함\n",
    "- Deck과 Pclass 시각화\n"
   ]
  },
  {
   "cell_type": "code",
   "execution_count": 28,
   "id": "e3feb192",
   "metadata": {},
   "outputs": [
    {
     "data": {
      "image/png": "[encoded data removed]",
      "text/plain": [
       "<Figure size 640x480 with 1 Axes>"
      ]
     },
     "metadata": {},
     "output_type": "display_data"
    }
   ],
   "source": [
    "sns.countplot(data = train, x = 'Deck', hue = 'Pclass')\n",
    "plt.show()"
   ]
  },
  {
   "cell_type": "markdown",
   "id": "20f1ea60",
   "metadata": {},
   "source": [
    "- M(결측치)안에는 3등급의 사람들이 많아서 사망율이 높게 출력\n",
    "- Sex과 Survived 관계 확인해보기"
   ]
  },
  {
   "cell_type": "code",
   "execution_count": 29,
   "id": "7dad4b21",
   "metadata": {},
   "outputs": [
    {
     "data": {
      "image/png": "[encoded data removed]",
      "text/plain": [
       "<Figure size 640x480 with 1 Axes>"
      ]
     },
     "metadata": {},
     "output_type": "display_data"
    }
   ],
   "source": [
    "sns.countplot(data = train, x = 'Sex', hue = 'Survived')\n",
    "plt.show()"
   ]
  },
  {
   "cell_type": "markdown",
   "id": "aed8a709",
   "metadata": {},
   "source": [
    "- male 사망율이 높음, female 비교적 생존율이 높음\n",
    "- Embarked과 Survived 관계 확인해보기"
   ]
  },
  {
   "cell_type": "code",
   "execution_count": 30,
   "id": "c8498978",
   "metadata": {},
   "outputs": [
    {
     "data": {
      "image/png": "[encoded data removed]",
      "text/plain": [
       "<Figure size 640x480 with 1 Axes>"
      ]
     },
     "metadata": {},
     "output_type": "display_data"
    }
   ],
   "source": [
    "sns.countplot(data = train, x = 'Embarked', hue = 'Survived')\n",
    "plt.show()"
   ]
  },
  {
   "cell_type": "code",
   "execution_count": 31,
   "id": "02459609",
   "metadata": {},
   "outputs": [],
   "source": [
    "# Embarked와 Pclass 관계 확인"
   ]
  },
  {
   "cell_type": "markdown",
   "id": "0dd0a663",
   "metadata": {},
   "source": [
    "- Age에 따른 생존/사망 시각화\n",
    "    - 데이터의 분포를 확인할 때 여러가지 시각화 방법을 활용하는데, 그 중에 하나인 바이올린 플롯을 활용"
   ]
  },
  {
   "cell_type": "code",
   "execution_count": 32,
   "id": "d0660c55",
   "metadata": {},
   "outputs": [
    {
     "data": {
      "image/png": "[encoded data removed]",
      "text/plain": [
       "<Figure size 1500x500 with 1 Axes>"
      ]
     },
     "metadata": {},
     "output_type": "display_data"
    }
   ],
   "source": [
    "plt.figure(figsize = (15,5)) # x 15, y 5\n",
    "sns.violinplot(data = train, x = 'Sex', y = 'Age', hue = 'Survived', split = True)\n",
    "plt.show()"
   ]
  },
  {
   "cell_type": "markdown",
   "id": "b9281e28",
   "metadata": {},
   "source": [
    "- 20~40대 사이에 사망이 많았음\n",
    "- 어린아이 중에서는 남자아이가 여자아이에 비해 많이 생존했음\n",
    "- Fare에 따른 생존/사망 시각화"
   ]
  },
  {
   "cell_type": "code",
   "execution_count": 33,
   "id": "e7ce3fdc",
   "metadata": {},
   "outputs": [
    {
     "data": {
      "image/png": "[encoded data removed]",
      "text/plain": [
       "<Figure size 1500x500 with 1 Axes>"
      ]
     },
     "metadata": {},
     "output_type": "display_data"
    }
   ],
   "source": [
    "plt.figure(figsize = (15,5)) # x 15, y 5\n",
    "sns.violinplot(data = train, x = 'Sex', y = 'Fare', hue = 'Survived', split = True)\n",
    "# 0 ~ 300 y축 범위 제한\n",
    "plt.ylim(0,300)\n",
    "plt.show()"
   ]
  },
  {
   "cell_type": "code",
   "execution_count": 34,
   "id": "7747af1e",
   "metadata": {},
   "outputs": [
    {
     "data": {
      "text/plain": [
       "count    891.000000\n",
       "mean      32.204208\n",
       "std       49.693429\n",
       "min        0.000000\n",
       "25%        7.910400\n",
       "50%       14.454200\n",
       "75%       31.000000\n",
       "max      512.329200\n",
       "Name: Fare, dtype: float64"
      ]
     },
     "execution_count": 34,
     "metadata": {},
     "output_type": "execute_result"
    }
   ],
   "source": [
    "# Fare 기술 통계량 확인\n",
    "train['Fare'].describe()"
   ]
  },
  {
   "cell_type": "markdown",
   "id": "46c7ffbd",
   "metadata": {},
   "source": [
    "- 요금이 싼 사람은 상대적으로 많이 사망함"
   ]
  },
  {
   "cell_type": "code",
   "execution_count": 35,
   "id": "f473a0ff",
   "metadata": {},
   "outputs": [
    {
     "data": {
      "text/plain": [
       "Index(['Survived', 'Pclass', 'Name', 'Sex', 'Age', 'SibSp', 'Parch', 'Ticket',\n",
       "       'Fare', 'Embarked', 'Deck'],\n",
       "      dtype='object')"
      ]
     },
     "execution_count": 35,
     "metadata": {},
     "output_type": "execute_result"
    }
   ],
   "source": [
    "# 컬럼명 확인\n",
    "train.columns"
   ]
  },
  {
   "cell_type": "markdown",
   "id": "bbd57f31",
   "metadata": {},
   "source": [
    "#### 가족의 수 컬럼 생성\n",
    "    - 기존의 컬럼을 가지고 새로운 컬럼을 생성(특성공학 분야중 하나)\n",
    "    - 가족의 수: SibSp(형제자매, 배우자), Parch(부모,자식) +1(자신)\n",
    "    - train, test 두 개 모두 컬럼 생성 진행"
   ]
  },
  {
   "cell_type": "code",
   "execution_count": 36,
   "id": "48cd845f",
   "metadata": {},
   "outputs": [
    {
     "data": {
      "text/plain": [
       "PassengerId\n",
       "1      2\n",
       "2      2\n",
       "3      1\n",
       "4      2\n",
       "5      1\n",
       "      ..\n",
       "887    1\n",
       "888    1\n",
       "889    4\n",
       "890    1\n",
       "891    1\n",
       "Name: Family_Size, Length: 891, dtype: int64"
      ]
     },
     "execution_count": 36,
     "metadata": {},
     "output_type": "execute_result"
    }
   ],
   "source": [
    "# SibSp + Parch + 1 => Family_Size 컬럼 추가\n",
    "# train, test\n",
    "train['Family_Size'] = train['SibSp'] + train['Parch'] + 1\n",
    "train['Family_Size']"
   ]
  },
  {
   "cell_type": "code",
   "execution_count": 37,
   "id": "4c6b7703",
   "metadata": {},
   "outputs": [
    {
     "data": {
      "text/plain": [
       "PassengerId\n",
       "892     1\n",
       "893     2\n",
       "894     1\n",
       "895     1\n",
       "896     3\n",
       "       ..\n",
       "1305    1\n",
       "1306    1\n",
       "1307    1\n",
       "1308    1\n",
       "1309    3\n",
       "Name: Family_Size, Length: 418, dtype: int64"
      ]
     },
     "execution_count": 37,
     "metadata": {},
     "output_type": "execute_result"
    }
   ],
   "source": [
    "# test 에 Family_Size 컬럼 생성\n",
    "test['Family_Size'] = test['SibSp'] + test['Parch'] + 1\n",
    "test['Family_Size']"
   ]
  },
  {
   "cell_type": "code",
   "execution_count": 38,
   "id": "64363ec8",
   "metadata": {},
   "outputs": [
    {
     "data": {
      "image/png": "[encoded data removed]",
      "text/plain": [
       "<Figure size 640x480 with 1 Axes>"
      ]
     },
     "metadata": {},
     "output_type": "display_data"
    }
   ],
   "source": [
    "# 가족의 수 컬럼 이용해서 생존/사망 시각화\n",
    "sns.countplot(data = train, x = 'Family_Size', hue = 'Survived')\n",
    "plt.show()"
   ]
  },
  {
   "cell_type": "markdown",
   "id": "75bcb21d",
   "metadata": {},
   "source": [
    "- 1명 일때는 사망 비율이 높고, 2~4일때는 생존 비율이 높고, 5명이상이면 사망 비율이 높음\n",
    "- 사소한 관찰의 오류를 줄이기 위해서 범주를 줄여보자(binning)"
   ]
  },
  {
   "cell_type": "code",
   "execution_count": 39,
   "id": "4c83345f",
   "metadata": {},
   "outputs": [],
   "source": [
    "# 가족의 수 1이면 Alone, 2~4명 이면 Small, 5명 이상이면 Large\n",
    "# train, test 적용\n",
    "# 연속적인 수치값을 범주화(카테고리화) 사용하는 pandas 함수: pd.cut()\n",
    "user_bins = [0,1,4,11] # 범위의 시작값은 포함되지 x\n",
    "user_labels = ['Alone', 'Small', 'Large']\n",
    "train['Family_Group'] = pd.cut(train['Family_Size'], bins = user_bins, labels = user_labels)\n",
    "test['Family_Group'] = pd.cut(test['Family_Size'], bins = user_bins, labels = user_labels)"
   ]
  },
  {
   "cell_type": "code",
   "execution_count": 40,
   "id": "581816fa",
   "metadata": {},
   "outputs": [
    {
     "data": {
      "image/png": "[encoded data removed]",
      "text/plain": [
       "<Figure size 640x480 with 1 Axes>"
      ]
     },
     "metadata": {},
     "output_type": "display_data"
    }
   ],
   "source": [
    "# 가족의 수 컬럼 이용해서 생존/사망 시각화\n",
    "sns.countplot(data = train, x = 'Family_Group', hue = 'Survived')\n",
    "plt.show()"
   ]
  },
  {
   "cell_type": "markdown",
   "id": "13d09b21",
   "metadata": {},
   "source": [
    "#### 불필요한 컬럼 삭제\n",
    "    - .drop(), 삭제할 이름이 있는 방향으로 axis(= 1)를 설정\n",
    "    - 전처리 대상에서 제외되거나 전처리 후 불필요한 컬럼 삭제\n",
    "    - Ticket, Name, Family_Size 삭제\n",
    "    - train, test 삭제 적용!"
   ]
  },
  {
   "cell_type": "code",
   "execution_count": 41,
   "id": "ad4638f0",
   "metadata": {},
   "outputs": [
    {
     "name": "stdout",
     "output_type": "stream",
     "text": [
      "<class 'pandas.core.frame.DataFrame'>\n",
      "Int64Index: 891 entries, 1 to 891\n",
      "Data columns (total 10 columns):\n",
      " #   Column        Non-Null Count  Dtype   \n",
      "---  ------        --------------  -----   \n",
      " 0   Survived      891 non-null    int64   \n",
      " 1   Pclass        891 non-null    int64   \n",
      " 2   Sex           891 non-null    object  \n",
      " 3   Age           714 non-null    float64 \n",
      " 4   SibSp         891 non-null    int64   \n",
      " 5   Parch         891 non-null    int64   \n",
      " 6   Fare          891 non-null    float64 \n",
      " 7   Embarked      891 non-null    object  \n",
      " 8   Deck          891 non-null    object  \n",
      " 9   Family_Group  891 non-null    category\n",
      "dtypes: category(1), float64(2), int64(4), object(3)\n",
      "memory usage: 102.9+ KB\n",
      "<class 'pandas.core.frame.DataFrame'>\n",
      "Int64Index: 418 entries, 892 to 1309\n",
      "Data columns (total 9 columns):\n",
      " #   Column        Non-Null Count  Dtype   \n",
      "---  ------        --------------  -----   \n",
      " 0   Pclass        418 non-null    int64   \n",
      " 1   Sex           418 non-null    object  \n",
      " 2   Age           418 non-null    int64   \n",
      " 3   SibSp         418 non-null    int64   \n",
      " 4   Parch         418 non-null    int64   \n",
      " 5   Fare          418 non-null    float64 \n",
      " 6   Embarked      418 non-null    object  \n",
      " 7   Deck          418 non-null    object  \n",
      " 8   Family_Group  418 non-null    category\n",
      "dtypes: category(1), float64(1), int64(4), object(3)\n",
      "memory usage: 29.9+ KB\n"
     ]
    }
   ],
   "source": [
    "train.drop(['Ticket','Name','Family_Size'], axis = 1, inplace = True)\n",
    "test.drop(['Ticket','Name','Family_Size'], axis = 1, inplace = True)\n",
    "\n",
    "train.info() # 10개\n",
    "test.info() # 9개"
   ]
  },
  {
   "cell_type": "markdown",
   "id": "c371bccb",
   "metadata": {},
   "source": [
    "#### 문제, 답 데이터로 분리"
   ]
  },
  {
   "cell_type": "code",
   "execution_count": 42,
   "id": "b1cc121d",
   "metadata": {},
   "outputs": [],
   "source": [
    "# 훈련문제, 훈련답\n",
    "X_train = train.drop('Survived', axis = 1)\n",
    "y_train = train['Survived']\n",
    "# 테스트문제\n",
    "X_test = test"
   ]
  },
  {
   "cell_type": "code",
   "execution_count": 43,
   "id": "2734386e",
   "metadata": {},
   "outputs": [
    {
     "name": "stdout",
     "output_type": "stream",
     "text": [
      "<class 'pandas.core.frame.DataFrame'>\n",
      "Int64Index: 891 entries, 1 to 891\n",
      "Data columns (total 9 columns):\n",
      " #   Column        Non-Null Count  Dtype   \n",
      "---  ------        --------------  -----   \n",
      " 0   Pclass        891 non-null    int64   \n",
      " 1   Sex           891 non-null    object  \n",
      " 2   Age           714 non-null    float64 \n",
      " 3   SibSp         891 non-null    int64   \n",
      " 4   Parch         891 non-null    int64   \n",
      " 5   Fare          891 non-null    float64 \n",
      " 6   Embarked      891 non-null    object  \n",
      " 7   Deck          891 non-null    object  \n",
      " 8   Family_Group  891 non-null    category\n",
      "dtypes: category(1), float64(2), int64(3), object(3)\n",
      "memory usage: 95.9+ KB\n"
     ]
    }
   ],
   "source": [
    "X_train.info()"
   ]
  },
  {
   "cell_type": "code",
   "execution_count": 44,
   "id": "ff795a6b",
   "metadata": {},
   "outputs": [
    {
     "data": {
      "text/plain": [
       "Index(['Sex', 'Embarked', 'Deck', 'Family_Group'], dtype='object')"
      ]
     },
     "execution_count": 44,
     "metadata": {},
     "output_type": "execute_result"
    }
   ],
   "source": [
    "# 범주 -> 수치(원핫인코딩)\n",
    "# 인코딩해야하는 컬럼 찾기\n",
    "# 데이터의 타입에 대한 질문으로 불리언 인덱싱 활용해보기\n",
    "cat_filter = (X_train.dtypes !='int64') & (X_train.dtypes != 'float64')\n",
    "cat_choice = X_train.columns[cat_filter]\n",
    "cat_choice"
   ]
  },
  {
   "cell_type": "code",
   "execution_count": 45,
   "id": "ab47105f",
   "metadata": {},
   "outputs": [],
   "source": [
    "# 원핫인코딩 함수 -> pd.get_dummies(대상)\n",
    "X_train_ch_oh = pd.get_dummies(X_train[cat_choice])\n",
    "# X_test 적용\n",
    "X_test_ch_oh = pd.get_dummies(X_test[cat_choice])\n",
    "\n",
    "# X_train과 원핫인코딩 데이터 합치기(병합하기)\n",
    "X_train = pd.concat([X_train, X_train_ch_oh], axis = 1)\n",
    "X_test = pd.concat([X_test, X_test_ch_oh], axis = 1)\n",
    "\n",
    "# cat_choice 컬럼 삭제하기\n",
    "X_train.drop(cat_choice, axis = 1, inplace = True)\n",
    "X_test.drop(cat_choice, axis = 1, inplace = True)"
   ]
  },
  {
   "cell_type": "code",
   "execution_count": 46,
   "id": "4e871d04",
   "metadata": {},
   "outputs": [
    {
     "data": {
      "text/plain": [
       "((891, 22), (418, 21))"
      ]
     },
     "execution_count": 46,
     "metadata": {},
     "output_type": "execute_result"
    }
   ],
   "source": [
    "X_train.shape, X_test.shape"
   ]
  },
  {
   "cell_type": "code",
   "execution_count": 47,
   "id": "c7d0f4de",
   "metadata": {},
   "outputs": [
    {
     "data": {
      "text/plain": [
       "Index(['Pclass', 'Age', 'SibSp', 'Parch', 'Fare', 'Sex_female', 'Sex_male',\n",
       "       'Embarked_C', 'Embarked_Q', 'Embarked_S', 'Deck_A', 'Deck_B', 'Deck_C',\n",
       "       'Deck_D', 'Deck_E', 'Deck_F', 'Deck_G', 'Deck_M', 'Deck_T',\n",
       "       'Family_Group_Alone', 'Family_Group_Small', 'Family_Group_Large'],\n",
       "      dtype='object')"
      ]
     },
     "execution_count": 47,
     "metadata": {},
     "output_type": "execute_result"
    }
   ],
   "source": [
    "X_train.columns"
   ]
  }
 ],
 "metadata": {
  "kernelspec": {
   "display_name": "Python 3 (ipykernel)",
   "language": "python",
   "name": "python3"
  },
  "language_info": {
   "codemirror_mode": {
    "name": "ipython",
    "version": 3
   },
   "file_extension": ".py",
   "mimetype": "text/x-python",
   "name": "python",
   "nbconvert_exporter": "python",
   "pygments_lexer": "ipython3",
   "version": "3.10.9"
  }
 },
 "nbformat": 4,
 "nbformat_minor": 5
}
