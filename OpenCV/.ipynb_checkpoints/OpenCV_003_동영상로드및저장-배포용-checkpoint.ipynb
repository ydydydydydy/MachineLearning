{
 "cells": [
  {
   "cell_type": "markdown",
   "metadata": {
    "id": "_WCj569S4n5p"
   },
   "source": [
    "<img src=\"https://arome1004.cafe24.com/images/opencv/lecture_image/00_title.png\">"
   ]
  },
  {
   "cell_type": "markdown",
   "metadata": {
    "id": "w3Jwlfmo4n5r"
   },
   "source": [
    "<table border=1 width=100%>\n",
    "    <tr><td style=\"border: 1px solid black; width:600px; height:40px; text-align: center;\"><font size=4 color=blue><b>[3차시] 학습목표</b></font></td></tr>       \n",
    "    <tr><td style=\"border: 1px solid black; text-align: left;\"><font size=3>○ 카메라나 동영상으로부터 비디오 프레임 캡처하기<br>\n",
    "\n",
    "○ CCTV 만들기 - 동영상 녹화하기<br>\n",
    "\n",
    "○ 동영상에서 한 프레임을 이미지 파일로 저장하기<br>\n",
    "\n",
    "○ 저장한 이미지들을 동영상으로 만들기<br>\n",
    "\n",
    "○ 유튜브 영상 연동하기<br>\n",
    "        </font></td></tr>   \n",
    "</table>"
   ]
  },
  {
   "cell_type": "code",
   "execution_count": 1,
   "metadata": {
    "colab": {
     "base_uri": "https://localhost:8080/"
    },
    "executionInfo": {
     "elapsed": 35687,
     "status": "ok",
     "timestamp": 1694681511807,
     "user": {
      "displayName": "강성관",
      "userId": "00571094306841577419"
     },
     "user_tz": -540
    },
    "id": "fvOTf37z4tlY",
    "outputId": "ad6a2037-c19d-47a9-ce4f-a846a303f435"
   },
   "outputs": [
    {
     "name": "stdout",
     "output_type": "stream",
     "text": [
      "Mounted at /content/drive\n"
     ]
    }
   ],
   "source": [
    "#from google.colab import drive\n",
    "#drive.mount('/content/drive')"
   ]
  },
  {
   "cell_type": "code",
   "execution_count": 2,
   "metadata": {
    "colab": {
     "base_uri": "https://localhost:8080/"
    },
    "executionInfo": {
     "elapsed": 1700,
     "status": "ok",
     "timestamp": 1694681513503,
     "user": {
      "displayName": "강성관",
      "userId": "00571094306841577419"
     },
     "user_tz": -540
    },
    "id": "44gsr0Z04tsz",
    "outputId": "38230c93-7542-4931-c0de-7cc5cbd277a5"
   },
   "outputs": [
    {
     "name": "stdout",
     "output_type": "stream",
     "text": [
      "/content/drive/MyDrive/Colab Notebooks/인공지능강의/opencv\n"
     ]
    }
   ],
   "source": [
    "#%cd /content/drive/MyDrive/Colab Notebooks/인공지능강의/opencv"
   ]
  },
  {
   "cell_type": "markdown",
   "metadata": {
    "id": "gLauf9_UarFp"
   },
   "source": [
    "# 동영상을 읽고 출력하기\n",
    "\n",
    "## 카메라나 동영상으로부터 비디오 프레임 캡처하기\n",
    "\n",
    "- <font color=red>cap = cv2.VideoCapture(0)</font>\n",
    "  - 0번 카메라로부터 비디오 캡처\n",
    "  - 0 대신에 파일명을 입력하면 동영상으로부터 캡처\n",
    "    - cv2.VideoCapture(“images/video.mp4”)\n",
    "  - IP가 부여된 웹캠인 경우 IP와 카메라 번호를 입력\n",
    "    - cap = cv2.VideoCapture(\"rtsp:127.0.0.1/0\")\n",
    "  \n",
    "  \n",
    "- <font color=red>cap.set(3, 480)</font> : 비디오의 가로 크기 설정하기\n",
    "- <font color=red>cap.set(4, 320)</font> : 비디오의 세로 크기 설정하기\n",
    "- <font color=red>w = cap.get(3)</font> : 비디오의 가로 크기 가져오기\n",
    "- <font color=red>h = cap.get(4)</font> : 비디오의 세로 크기 가져오기\n",
    "\n",
    "\n",
    "- <font color=red>ret, frame = cap.read()</font>\n",
    "  - 카메라로부터 비디오 파일을 읽고 프레임(frame) 이미지와 읽기성공여부(ret)를 반환 (True/False)\n",
    "\n",
    "\n",
    "- <font color=red>key = cv2.waitKey(33)</font>\n",
    "  - 0.03초동안 키 입력을 대기 (30프레임인 경우)\n",
    "  - key 값은 아스키 코드로 반환\n",
    "  \n",
    "  \n",
    "- <font color=red>cap.release()</font>\n",
    "  - 비디오 객체를 종료하고 메모리를 해제\n",
    "  \n",
    "\n",
    "- 아스키 코드\n",
    "<img src=\"https://arome1004.cafe24.com/images/opencv/lecture_image/03_ascii.png\" width=70%>"
   ]
  },
  {
   "cell_type": "code",
   "execution_count": 2,
   "metadata": {
    "colab": {
     "base_uri": "https://localhost:8080/",
     "height": 55
    },
    "executionInfo": {
     "elapsed": 585,
     "status": "ok",
     "timestamp": 1601964088660,
     "user": {
      "displayName": "강성관",
      "photoUrl": "",
      "userId": "00571094306841577419"
     },
     "user_tz": -540
    },
    "id": "Gdu9-Y9LarFn",
    "outputId": "dc8915da-3df0-4d1f-d9fe-4e472c1c0911"
   },
   "outputs": [
    {
     "name": "stdout",
     "output_type": "stream",
     "text": [
      "종료\n"
     ]
    }
   ],
   "source": [
    "import cv2\n",
    "\n",
    "# 카메라로부터 영상 가져오기\n",
    "cap = cv2.VideoCapture(0)\n",
    "\n",
    "# 동영상으로부터 영상 가져오기\n",
    "#cap = cv2.VideoCapture(\"./images/video.mp4\")\n",
    "\n",
    "# 영상에서 이미지 프레임을 읽어서 출력\n",
    "# 영상이 열려 있는 동안\n",
    "while cap.isOpened() :\n",
    "    # 영상에서 프레임 이미지 읽기\n",
    "    ret, frame = cap.read()\n",
    "    \n",
    "    # 좌우로 뒤집혀 나오는 것을 방지\n",
    "    frame = cv2.flip(frame, 1)\n",
    "    # 흑백이미지로 변환\n",
    "    frame = cv2.cvtColor(frame, cv2.COLOR_BGR2GRAY)\n",
    "    \n",
    "    # 이미지를 읽지 못했다면 종료\n",
    "    if not ret :\n",
    "        print(\"종료\")\n",
    "        break\n",
    "        \n",
    "    # 출력\n",
    "    cv2.imshow(\"video\", frame)\n",
    "    \n",
    "    # 초당 30장 출력하고 키 입력 받음\n",
    "    key = cv2.waitKey(33)\n",
    "    \n",
    "    # 만약 1 키를 눌렀다면 종료\n",
    "    if key == 49 :\n",
    "        print(\"종료\")\n",
    "        break\n",
    "        \n",
    "cap.release()\n",
    "cv2.destroyAllWindows()"
   ]
  },
  {
   "cell_type": "markdown",
   "metadata": {
    "id": "mpZrg3GO4n5u"
   },
   "source": [
    "<table border=1 width=100%>\n",
    "    <tr><td style=\"border: 1px solid black; width:600px; text-align: left;\"><font size=4 color=red><b>실습문제</b></font><br><br>\n",
    "        <font size=4>○ 동영상 파일을 읽고 출력해보자.</font></td></tr>       \n",
    "    <tr><td style=\"border: 1px solid black; text-align: left;\">\n",
    "        <img src=\"https://arome1004.cafe24.com/images/opencv/lecture_image/03_movie.png\" width=50%></td></tr>   \n",
    "</table>"
   ]
  },
  {
   "cell_type": "markdown",
   "metadata": {
    "id": "c_T9xGKy7YGH"
   },
   "source": [
    "## CCTV 만들기 - 동영상 녹화하기\n",
    "\n",
    "- <font color=red>codec = cv2.VideoWriter_fourcc('D', 'I', 'V', 'X')</font> : 비디오 타입을 DIVX로 설정\n",
    "\n",
    "<img src=\"https://arome1004.cafe24.com/images/opencv/lecture_image/03_codec.png\" width=70%>\n",
    "\n",
    "\n",
    "- <font color=red>out = cv2.VideoWriter('cctv01.avi', codec, fps, (w, h))</font>\n",
    "  - cctv01.avi 파일에 설정한 코덱, 프레임, 크기로 저장하도록 설정\n",
    "  \n",
    "  \n",
    "- <font color=red>out.write(frame)</font>  : 이미지 프레임을 파일에 쓰기\n",
    "\n",
    "\n",
    "- <font color=red>out.release() </font> : 파일 객체 해제하기"
   ]
  },
  {
   "cell_type": "code",
   "execution_count": 6,
   "metadata": {
    "id": "VuXcAroNarFq",
    "outputId": "21191986-ee04-4143-f089-45f3d8196e21"
   },
   "outputs": [],
   "source": [
    "import cv2\n",
    "\n",
    "cap = cv2.VideoCapture(\"./images/video.mp4\")\n",
    "\n",
    "# 초당 프레임수는 원 영상 동일하게 설정\n",
    "fps = int(cap.get(5))\n",
    "\n",
    "# 원 영상의 크기\n",
    "w = int(cap.get(3))\n",
    "h = int(cap.get(4))\n",
    "\n",
    "# 영상 코덱 설정\n",
    "codec = cv2.VideoWriter_fourcc(*\"DIVX\")\n",
    "\n",
    "# 저장할 영상파일 설정\n",
    "out = cv2.VideoWriter(\"./images/cctv01.avi\", codec, fps, (w, h))\n",
    "\n",
    "# 녹화여부\n",
    "record = False\n",
    "\n",
    "while cap.isOpened() :\n",
    "    ret, frame = cap.read()\n",
    "    \n",
    "    if not ret :\n",
    "        print(\"종료\")\n",
    "        break\n",
    "        \n",
    "    cv2.imshow(\"cctv\", frame)    \n",
    "    \n",
    "    key = cv2.waitKey(33)\n",
    "    \n",
    "    if key == 49 :\n",
    "        print(\"종료\")\n",
    "        break\n",
    "\n",
    "    # 숫자 2를 누르면 녹화상태로 전환\n",
    "    if key == 50 :\n",
    "        print(\"녹화시작\")\n",
    "        record = True\n",
    "    \n",
    "    # 숫자 3을 누르면 녹화중지상태로 전환\n",
    "    if key == 51 :\n",
    "        print(\"녹화종료\")\n",
    "        record = False\n",
    "        \n",
    "    # 녹화\n",
    "    if record :\n",
    "        out.write(frame)\n",
    "    \n",
    "out.release()        \n",
    "cap.release()\n",
    "cv2.destroyAllWindows()"
   ]
  },
  {
   "cell_type": "code",
   "execution_count": 5,
   "metadata": {
    "collapsed": true,
    "id": "VNVFVH8s7cs4"
   },
   "outputs": [
    {
     "name": "stdout",
     "output_type": "stream",
     "text": [
      "Requirement already satisfied: moviepy in c:\\users\\gjaischool\\anaconda3\\lib\\site-packages (1.0.3)\n",
      "Requirement already satisfied: proglog<=1.0.0 in c:\\users\\gjaischool\\anaconda3\\lib\\site-packages (from moviepy) (0.1.10)\n",
      "Requirement already satisfied: decorator<5.0,>=4.0.2 in c:\\users\\gjaischool\\anaconda3\\lib\\site-packages (from moviepy) (4.4.2)\n",
      "Requirement already satisfied: imageio-ffmpeg>=0.2.0 in c:\\users\\gjaischool\\anaconda3\\lib\\site-packages (from moviepy) (0.4.9)\n",
      "Requirement already satisfied: numpy>=1.17.3 in c:\\users\\gjaischool\\anaconda3\\lib\\site-packages (from moviepy) (1.23.5)\n",
      "Requirement already satisfied: requests<3.0,>=2.8.1 in c:\\users\\gjaischool\\anaconda3\\lib\\site-packages (from moviepy) (2.28.1)\n",
      "Requirement already satisfied: imageio<3.0,>=2.5 in c:\\users\\gjaischool\\anaconda3\\lib\\site-packages (from moviepy) (2.26.0)\n",
      "Requirement already satisfied: tqdm<5.0,>=4.11.2 in c:\\users\\gjaischool\\anaconda3\\lib\\site-packages (from moviepy) (4.64.1)\n",
      "Requirement already satisfied: pillow>=8.3.2 in c:\\users\\gjaischool\\anaconda3\\lib\\site-packages (from imageio<3.0,>=2.5->moviepy) (9.4.0)\n",
      "Requirement already satisfied: setuptools in c:\\users\\gjaischool\\anaconda3\\lib\\site-packages (from imageio-ffmpeg>=0.2.0->moviepy) (65.6.3)\n",
      "Requirement already satisfied: charset-normalizer<3,>=2 in c:\\users\\gjaischool\\anaconda3\\lib\\site-packages (from requests<3.0,>=2.8.1->moviepy) (2.0.4)\n",
      "Requirement already satisfied: idna<4,>=2.5 in c:\\users\\gjaischool\\anaconda3\\lib\\site-packages (from requests<3.0,>=2.8.1->moviepy) (3.4)\n",
      "Requirement already satisfied: urllib3<1.27,>=1.21.1 in c:\\users\\gjaischool\\anaconda3\\lib\\site-packages (from requests<3.0,>=2.8.1->moviepy) (1.26.14)\n",
      "Requirement already satisfied: certifi>=2017.4.17 in c:\\users\\gjaischool\\anaconda3\\lib\\site-packages (from requests<3.0,>=2.8.1->moviepy) (2023.5.7)\n",
      "Requirement already satisfied: colorama in c:\\users\\gjaischool\\anaconda3\\lib\\site-packages (from tqdm<5.0,>=4.11.2->moviepy) (0.4.6)\n"
     ]
    }
   ],
   "source": [
    "# colab은 설치되어 있음\n",
    "!pip install moviepy"
   ]
  },
  {
   "cell_type": "code",
   "execution_count": null,
   "metadata": {
    "id": "12gs5r0O7jrH"
   },
   "outputs": [],
   "source": []
  },
  {
   "cell_type": "markdown",
   "metadata": {
    "id": "ARYE0iZR7YGL"
   },
   "source": [
    "# 동영상에서 한 프레임을 이미지 파일로 저장하기\n",
    "\n",
    "- <font color=red>cv2.imwrite(“파일명.확장자”, 프레임이미지, 옵션)</font>\n",
    "  - params=[cv2.IMWRITE_PNG_COMPRESSION, 0]) : 압축 하지 않는 PNG, 세 번째 파라미터는 압축률로 0~9까지 설정 가능 (0은 압축 없음)"
   ]
  },
  {
   "cell_type": "code",
   "execution_count": null,
   "metadata": {
    "id": "mm27wOurarFs",
    "outputId": "23d68150-df97-4770-e818-42974043234c"
   },
   "outputs": [
    {
     "name": "stdout",
     "output_type": "stream",
     "text": [
      "비디오 캡처 시작\n"
     ]
    }
   ],
   "source": [
    "import cv2\n",
    "\n",
    "cap = cv2.VideoCapture(\"./images/video.mp4\")\n",
    "\n",
    "# 파일이름\n",
    "co = 0\n",
    "\n",
    "while cap.isOpened() :\n",
    "    ret, frame = cap.read()\n",
    "    \n",
    "    if not ret :\n",
    "        print(\"종료\")\n",
    "        break\n",
    "\n",
    "    cv2.imshow(\"video\", frame)\n",
    "    \n",
    "    key = cv2.waitKey(33)\n",
    "    \n",
    "    if key == 49 :\n",
    "        print(\"종료\")\n",
    "        break\n",
    "    \n",
    "    # 이미지로 저장\n",
    "    if key == 50 :\n",
    "        co += 1\n",
    "        print(f\"./images/pic_{co}.png 파일을 저장했습니다\")\n",
    "        cv2.imwrite(f\"./images/pic_{co}.png\", frame,\n",
    "                   params=[cv2.IMWRITE_PNG_COMPRESSION, 0])\n",
    "        \n",
    "cap.release()\n",
    "cv2.destroyAllWindows()"
   ]
  },
  {
   "cell_type": "markdown",
   "metadata": {
    "id": "Q2YlE60vAEtW"
   },
   "source": [
    "## 저장한 이미지들을 동영상으로 만들기"
   ]
  },
  {
   "cell_type": "code",
   "execution_count": 7,
   "metadata": {
    "id": "FUw1ewhLAEX_"
   },
   "outputs": [
    {
     "ename": "NameError",
     "evalue": "name 'img' is not defined",
     "output_type": "error",
     "traceback": [
      "\u001b[1;31m---------------------------------------------------------------------------\u001b[0m",
      "\u001b[1;31mNameError\u001b[0m                                 Traceback (most recent call last)",
      "Cell \u001b[1;32mIn[7], line 4\u001b[0m\n\u001b[0;32m      1\u001b[0m \u001b[38;5;28;01mimport\u001b[39;00m \u001b[38;5;21;01mcv2\u001b[39;00m\n\u001b[0;32m      2\u001b[0m imt \u001b[38;5;241m=\u001b[39m cv2\u001b[38;5;241m.\u001b[39mimread(\u001b[38;5;124m\"\u001b[39m\u001b[38;5;124m./images/pic_1.png\u001b[39m\u001b[38;5;124m\"\u001b[39m)\n\u001b[1;32m----> 4\u001b[0m h, w, c \u001b[38;5;241m=\u001b[39m \u001b[43mimg\u001b[49m\u001b[38;5;241m.\u001b[39mshape\n\u001b[0;32m      6\u001b[0m fps \u001b[38;5;241m=\u001b[39m \u001b[38;5;241m2.0\u001b[39m\n\u001b[0;32m      8\u001b[0m codec \u001b[38;5;241m=\u001b[39m cv2\u001b[38;5;241m.\u001b[39mVideoWriter_fourcc(\u001b[38;5;241m*\u001b[39m\u001b[38;5;124m\"\u001b[39m\u001b[38;5;124mDIVX\u001b[39m\u001b[38;5;124m\"\u001b[39m)\n",
      "\u001b[1;31mNameError\u001b[0m: name 'img' is not defined"
     ]
    }
   ],
   "source": [
    "import cv2\n",
    "\n",
    "img = cv2.imread(\"./images/pic_1.png\")\n",
    "\n",
    "h, w, c = img.shape\n",
    "\n",
    "fps = 2.0\n",
    "\n",
    "codec = cv2.VideoWriter_fourcc(*\"DIVX\")\n",
    "\n",
    "out = cv2.VideoWriter(\"./images/pic_movie.avi\", codec, fps, (w, h))\n",
    "\n",
    "for i in range(1, 21) :\n",
    "    img = cv2.imread(f\"./images/pic_{i}.png\")\n",
    "    \n",
    "    out.write(img)\n",
    "    \n",
    "out.release()    "
   ]
  },
  {
   "cell_type": "markdown",
   "metadata": {
    "id": "ZWVPFUud4n50"
   },
   "source": [
    "## pytube로 유튜브 영상 다운로드\n",
    "  \n",
    "  - 영상과 음성을 모두 다운로드"
   ]
  },
  {
   "cell_type": "code",
   "execution_count": 8,
   "metadata": {
    "id": "bhZtogoP4n50",
    "outputId": "5723585e-8bce-4cdb-f688-b960e6840457"
   },
   "outputs": [
    {
     "name": "stdout",
     "output_type": "stream",
     "text": [
      "Collecting git+https://github.com/nficano/pytube.git\n",
      "  Cloning https://github.com/nficano/pytube.git to c:\\users\\gjaischool\\appdata\\local\\temp\\pip-req-build-q0eza7km\n",
      "  Resolved https://github.com/nficano/pytube.git to commit a32fff39058a6f7e5e59ecd06a7467b71197ce35\n",
      "  Preparing metadata (setup.py): started\n",
      "  Preparing metadata (setup.py): finished with status 'done'\n",
      "Building wheels for collected packages: pytube\n",
      "  Building wheel for pytube (setup.py): started\n",
      "  Building wheel for pytube (setup.py): finished with status 'done'\n",
      "  Created wheel for pytube: filename=pytube-15.0.0-py3-none-any.whl size=58037 sha256=568f1367a6c34f576644f58918d4edb5137c7fb8b599c1ccfd6ba3bea5f938bb\n",
      "  Stored in directory: C:\\Users\\gjaischool\\AppData\\Local\\Temp\\pip-ephem-wheel-cache-69fg676k\\wheels\\5c\\73\\d3\\e1b12f64e578635691f2244a3933c1aec12394a0c1e4b0370b\n",
      "Successfully built pytube\n",
      "Installing collected packages: pytube\n",
      "Successfully installed pytube-15.0.0\n"
     ]
    },
    {
     "name": "stderr",
     "output_type": "stream",
     "text": [
      "  Running command git clone --filter=blob:none --quiet https://github.com/nficano/pytube.git 'C:\\Users\\gjaischool\\AppData\\Local\\Temp\\pip-req-build-q0eza7km'\n"
     ]
    }
   ],
   "source": [
    "# 아나콘다 프롬프트 창에서 실행\n",
    "!pip install --upgrade \"git+https://github.com/nficano/pytube.git\""
   ]
  },
  {
   "cell_type": "code",
   "execution_count": 12,
   "metadata": {
    "id": "CWCTzfqj4n50",
    "outputId": "e0da7e54-67b3-45df-cef7-4be3f9e1841c"
   },
   "outputs": [
    {
     "name": "stdout",
     "output_type": "stream",
     "text": [
      "제목 : Steal The Show\n",
      "조회수 : 61966695\n",
      "평점 : None\n"
     ]
    },
    {
     "ename": "AgeRestrictedError",
     "evalue": "DwuJeGYlYyw is age restricted, and can't be accessed without logging in.",
     "output_type": "error",
     "traceback": [
      "\u001b[1;31m---------------------------------------------------------------------------\u001b[0m",
      "\u001b[1;31mAgeRestrictedError\u001b[0m                        Traceback (most recent call last)",
      "Cell \u001b[1;32mIn[12], line 17\u001b[0m\n\u001b[0;32m     11\u001b[0m \u001b[38;5;28mprint\u001b[39m(\u001b[38;5;124mf\u001b[39m\u001b[38;5;124m\"\u001b[39m\u001b[38;5;124m평점 : \u001b[39m\u001b[38;5;132;01m{\u001b[39;00myt\u001b[38;5;241m.\u001b[39mrating\u001b[38;5;132;01m}\u001b[39;00m\u001b[38;5;124m\"\u001b[39m)\n\u001b[0;32m     13\u001b[0m \u001b[38;5;66;03m# 유튜브 영상은 다양한 해상도 별로 저장하고 있음\u001b[39;00m\n\u001b[0;32m     14\u001b[0m \u001b[38;5;66;03m# order_by() : 해상도를 기준으로 영상을 정렬\u001b[39;00m\n\u001b[0;32m     15\u001b[0m \u001b[38;5;66;03m# desc() : 내림차순정렬 (해상도가 높은 순으로 정렬)\u001b[39;00m\n\u001b[0;32m     16\u001b[0m \u001b[38;5;66;03m# first() : 정렬한 영상들 중 첫번째 영상\u001b[39;00m\n\u001b[1;32m---> 17\u001b[0m \u001b[43myt\u001b[49m\u001b[38;5;241;43m.\u001b[39;49m\u001b[43mstreams\u001b[49m\u001b[38;5;241m.\u001b[39mfilter(progressive\u001b[38;5;241m=\u001b[39m\u001b[38;5;28;01mTrue\u001b[39;00m, file_extension\u001b[38;5;241m=\u001b[39m\u001b[38;5;124m\"\u001b[39m\u001b[38;5;124mmp4\u001b[39m\u001b[38;5;124m\"\u001b[39m)\\\n\u001b[0;32m     18\u001b[0m                   \u001b[38;5;241m.\u001b[39morder_by(\u001b[38;5;124m\"\u001b[39m\u001b[38;5;124mresolution\u001b[39m\u001b[38;5;124m\"\u001b[39m)\u001b[38;5;241m.\u001b[39mdesc()\u001b[38;5;241m.\u001b[39mfirst()\u001b[38;5;241m.\u001b[39mdownload(\u001b[38;5;124m\"\u001b[39m\u001b[38;5;124m./images/\u001b[39m\u001b[38;5;124m\"\u001b[39m)\n",
      "File \u001b[1;32m~\\anaconda3\\lib\\site-packages\\pytube\\__main__.py:296\u001b[0m, in \u001b[0;36mYouTube.streams\u001b[1;34m(self)\u001b[0m\n\u001b[0;32m    291\u001b[0m \u001b[38;5;124;03m\"\"\"Interface to query both adaptive (DASH) and progressive streams.\u001b[39;00m\n\u001b[0;32m    292\u001b[0m \n\u001b[0;32m    293\u001b[0m \u001b[38;5;124;03m:rtype: :class:`StreamQuery <StreamQuery>`.\u001b[39;00m\n\u001b[0;32m    294\u001b[0m \u001b[38;5;124;03m\"\"\"\u001b[39;00m\n\u001b[0;32m    295\u001b[0m \u001b[38;5;28mself\u001b[39m\u001b[38;5;241m.\u001b[39mcheck_availability()\n\u001b[1;32m--> 296\u001b[0m \u001b[38;5;28;01mreturn\u001b[39;00m StreamQuery(\u001b[38;5;28;43mself\u001b[39;49m\u001b[38;5;241;43m.\u001b[39;49m\u001b[43mfmt_streams\u001b[49m)\n",
      "File \u001b[1;32m~\\anaconda3\\lib\\site-packages\\pytube\\__main__.py:176\u001b[0m, in \u001b[0;36mYouTube.fmt_streams\u001b[1;34m(self)\u001b[0m\n\u001b[0;32m    172\u001b[0m     \u001b[38;5;28;01mreturn\u001b[39;00m \u001b[38;5;28mself\u001b[39m\u001b[38;5;241m.\u001b[39m_fmt_streams\n\u001b[0;32m    174\u001b[0m \u001b[38;5;28mself\u001b[39m\u001b[38;5;241m.\u001b[39m_fmt_streams \u001b[38;5;241m=\u001b[39m []\n\u001b[1;32m--> 176\u001b[0m stream_manifest \u001b[38;5;241m=\u001b[39m extract\u001b[38;5;241m.\u001b[39mapply_descrambler(\u001b[38;5;28;43mself\u001b[39;49m\u001b[38;5;241;43m.\u001b[39;49m\u001b[43mstreaming_data\u001b[49m)\n\u001b[0;32m    178\u001b[0m \u001b[38;5;66;03m# If the cached js doesn't work, try fetching a new js file\u001b[39;00m\n\u001b[0;32m    179\u001b[0m \u001b[38;5;66;03m# https://github.com/pytube/pytube/issues/1054\u001b[39;00m\n\u001b[0;32m    180\u001b[0m \u001b[38;5;28;01mtry\u001b[39;00m:\n",
      "File \u001b[1;32m~\\anaconda3\\lib\\site-packages\\pytube\\__main__.py:160\u001b[0m, in \u001b[0;36mYouTube.streaming_data\u001b[1;34m(self)\u001b[0m\n\u001b[0;32m    158\u001b[0m     \u001b[38;5;28;01mreturn\u001b[39;00m \u001b[38;5;28mself\u001b[39m\u001b[38;5;241m.\u001b[39mvid_info[\u001b[38;5;124m'\u001b[39m\u001b[38;5;124mstreamingData\u001b[39m\u001b[38;5;124m'\u001b[39m]\n\u001b[0;32m    159\u001b[0m \u001b[38;5;28;01melse\u001b[39;00m:\n\u001b[1;32m--> 160\u001b[0m     \u001b[38;5;28;43mself\u001b[39;49m\u001b[38;5;241;43m.\u001b[39;49m\u001b[43mbypass_age_gate\u001b[49m\u001b[43m(\u001b[49m\u001b[43m)\u001b[49m\n\u001b[0;32m    161\u001b[0m     \u001b[38;5;28;01mreturn\u001b[39;00m \u001b[38;5;28mself\u001b[39m\u001b[38;5;241m.\u001b[39mvid_info[\u001b[38;5;124m'\u001b[39m\u001b[38;5;124mstreamingData\u001b[39m\u001b[38;5;124m'\u001b[39m]\n",
      "File \u001b[1;32m~\\anaconda3\\lib\\site-packages\\pytube\\__main__.py:264\u001b[0m, in \u001b[0;36mYouTube.bypass_age_gate\u001b[1;34m(self)\u001b[0m\n\u001b[0;32m    261\u001b[0m \u001b[38;5;66;03m# If we still can't access the video, raise an exception\u001b[39;00m\n\u001b[0;32m    262\u001b[0m \u001b[38;5;66;03m# (tier 3 age restriction)\u001b[39;00m\n\u001b[0;32m    263\u001b[0m \u001b[38;5;28;01mif\u001b[39;00m playability_status \u001b[38;5;241m==\u001b[39m \u001b[38;5;124m'\u001b[39m\u001b[38;5;124mUNPLAYABLE\u001b[39m\u001b[38;5;124m'\u001b[39m:\n\u001b[1;32m--> 264\u001b[0m     \u001b[38;5;28;01mraise\u001b[39;00m exceptions\u001b[38;5;241m.\u001b[39mAgeRestrictedError(\u001b[38;5;28mself\u001b[39m\u001b[38;5;241m.\u001b[39mvideo_id)\n\u001b[0;32m    266\u001b[0m \u001b[38;5;28mself\u001b[39m\u001b[38;5;241m.\u001b[39m_vid_info \u001b[38;5;241m=\u001b[39m innertube_response\n",
      "\u001b[1;31mAgeRestrictedError\u001b[0m: DwuJeGYlYyw is age restricted, and can't be accessed without logging in."
     ]
    }
   ],
   "source": [
    "import os\n",
    "import pytube\n",
    "from pytube.cli import on_progress\n",
    "\n",
    "# 유튜브 주소\n",
    "url = \"https://www.youtube.com/watch?v=XnPHJTEng_I\"\n",
    "yt = pytube.YouTube(url)\n",
    "\n",
    "print(f\"제목 : {yt.title}\")\n",
    "print(f\"조회수 : {yt.views}\")\n",
    "print(f\"평점 : {yt.rating}\")\n",
    "\n",
    "# 유튜브 영상은 다양한 해상도 별로 저장하고 있음\n",
    "# order_by() : 해상도를 기준으로 영상을 정렬\n",
    "# desc() : 내림차순정렬 (해상도가 높은 순으로 정렬)\n",
    "# first() : 정렬한 영상들 중 첫번째 영상\n",
    "yt.streams.filter(progressive=True, file_extension=\"mp4\")\\\n",
    "                  .order_by(\"resolution\").desc().first().download(\"./images/\")"
   ]
  },
  {
   "cell_type": "markdown",
   "metadata": {
    "id": "7lkTdR7G4n51"
   },
   "source": [
    "<table border=1 width=100%>\n",
    "    <tr><td style=\"border: 1px solid black; width:600px; text-align: left;\"><font size=4 color=red><b>실습문제</b></font><br><br>\n",
    "        <font size=4>○ 다른 유튜브 영상을 읽고 출력해보자.</font></td></tr>       \n",
    "    <tr><td style=\"border: 1px solid black; text-align: left;\">\n",
    "        <img src=\"https://arome1004.cafe24.com/images/opencv/lecture_image/03_youtube.png\" width=50%></td></tr>   \n",
    "</table>"
   ]
  },
  {
   "cell_type": "markdown",
   "metadata": {
    "id": "ZSO3b1_t4n51"
   },
   "source": [
    "<table border=1 width=100%>\n",
    "    <tr><td style=\"border: 1px solid black; width:600px; text-align: left;\"><font size=4 color=red><b>실습문제</b></font><br><br>\n",
    "        <font size=4>○ 다른 유튜브 영상을 저장해보자.</font></td></tr>   \n",
    "</table>"
   ]
  },
  {
   "cell_type": "markdown",
   "metadata": {
    "id": "wkX30_wh4n51"
   },
   "source": [
    "<table border=1 width=100%>\n",
    "    <tr><td style=\"border: 1px solid black; width:600px; height:40px; text-align: center;\"><font size=4 color=blue><b>[3차시] 학습요약</b></font></td></tr>       \n",
    "    <tr><td style=\"border: 1px solid black; text-align: left;\"><font size=3>\n",
    "        \n",
    "○ <font color=red>cv2.VideoCapture()</font> : 비디오 캡처 (카메라, 동영상, 유튜브 등)<br>\n",
    "○ <font color=red>ret, frame = cap.read()</font> : 비디오로부터 프레임 이미지를 읽어서 반환<br>\n",
    "○ <font color=red>cv2.VideoWriter_fourcc ()</font> : 녹화 파일을 설정하는 함수<br>\n",
    "○ <font color=red>out.write()</font> : 영상을 저장<br>\n",
    "○ <font color=red>cv2.imwrite()</font> : 이미지를 저장<br>\n",
    "\n",
    "        \n",
    "○ 일반적인 동영상은 1초에 30장의 프레임이미지로 구성<br>\n",
    "○ pafy : 유투브 메타 데이터를 가져오는 라이브러리<br>\n",
    "○ yt-dlp : 유투브 영상을 다운로드하는 라이브러리 (음성 제외)<br>\n",
    "○ pytube : 유투브 영상을 다운로드하는 라이브러리 (음성 포함)\n",
    "         \n",
    "        \n",
    "</font></td></tr>   \n",
    "</table>"
   ]
  }
 ],
 "metadata": {
  "colab": {
   "provenance": []
  },
  "hide_input": false,
  "kernelspec": {
   "display_name": "Python 3 (ipykernel)",
   "language": "python",
   "name": "python3"
  },
  "language_info": {
   "codemirror_mode": {
    "name": "ipython",
    "version": 3
   },
   "file_extension": ".py",
   "mimetype": "text/x-python",
   "name": "python",
   "nbconvert_exporter": "python",
   "pygments_lexer": "ipython3",
   "version": "3.10.9"
  },
  "toc": {
   "base_numbering": 1,
   "nav_menu": {},
   "number_sections": true,
   "sideBar": true,
   "skip_h1_title": false,
   "title_cell": "Table of Contents",
   "title_sidebar": "Contents",
   "toc_cell": false,
   "toc_position": {
    "height": "calc(100% - 180px)",
    "left": "10px",
    "top": "150px",
    "width": "165px"
   },
   "toc_section_display": true,
   "toc_window_display": true
  }
 },
 "nbformat": 4,
 "nbformat_minor": 1
}
