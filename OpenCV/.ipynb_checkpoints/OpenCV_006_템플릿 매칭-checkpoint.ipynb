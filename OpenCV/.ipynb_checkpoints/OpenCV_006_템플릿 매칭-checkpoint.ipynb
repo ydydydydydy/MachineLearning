{
 "cells": [
  {
   "cell_type": "code",
   "execution_count": 1,
   "id": "9976d216-5028-4ab0-b832-d4702997f938",
   "metadata": {},
   "outputs": [],
   "source": [
    "# 템플릿 매칭\n",
    "# 배경 사진에서 원하는 물체 찾기\n",
    "# 메이플 배경 이미지에서 파란 달팽이, 초록 버섯 찾기\n",
    "# 좌상단부터 한 픽셀씩 움직이면서 원하는 물체와 배경이 유사한지 검색"
   ]
  },
  {
   "cell_type": "code",
   "execution_count": 1,
   "id": "b1905909-09fb-4d1b-9e09-e5d6c513f16b",
   "metadata": {},
   "outputs": [],
   "source": [
    "import cv2\n",
    "# 배경화면\n",
    "img = cv2.imread('images/maple.jpg')\n",
    "img_gray = cv2.cvtColor(img, cv2.COLOR_RGB2GRAY) # 흑백 이미지로 만들어주면 더 빨리 찾을 수 있음\n",
    "\n",
    "blue_snail = cv2.imread('images/blue_snail.jpg')\n",
    "blue_snail_gray = cv2.cvtColor(blue_snail, cv2.COLOR_RGB2GRAY)\n",
    "h1, w1 = blue_snail_gray.shape # 찾을 대상(흑백 이미지)의 세로, 가로 크기 받아오기\n",
    "\n",
    "green_mush = cv2.imread('images/green_mush.jpg')\n",
    "green_mush_gray = cv2.cvtColor(green_mush, cv2.COLOR_RGB2GRAY)\n",
    "h2, w2 = green_mush_gray.shape\n",
    "\n",
    "# 이미지 찾기(배경이미지, 찾을 이미지, 찾을 방법 값을 넣어줌)\n",
    "res1 = cv2.matchTemplate(img_gray, blue_snail_gray, cv2.TM_CCOEFF_NORMED )\n",
    "\n",
    "cv2.imshow('maple',img)\n",
    "cv2.imshow('blue_snail',blue_snail)\n",
    "cv2.imshow('green_mush',green_mush)\n",
    "cv2.waitKey(0)\n",
    "cv2.destroyAllWindows()"
   ]
  },
  {
   "cell_type": "code",
   "execution_count": 4,
   "id": "82c512ef-75c8-4456-8b6f-8022658a843f",
   "metadata": {},
   "outputs": [
    {
     "data": {
      "text/plain": [
       "(array([ 29, 411, 411, 412, 531, 531, 532, 532, 532, 532, 532, 533, 533,\n",
       "        533, 533, 684, 684, 685, 685, 685, 685, 685, 685, 685, 685, 685,\n",
       "        685, 685, 685, 686, 686, 686, 686], dtype=int64),\n",
       " array([233, 454, 455, 455, 522, 523, 522, 523, 524, 985, 986, 523, 524,\n",
       "        985, 986, 319, 988, 218, 219, 319, 320, 409, 549, 550, 681, 682,\n",
       "        731, 988, 989, 218, 219, 409, 550], dtype=int64))"
      ]
     },
     "execution_count": 4,
     "metadata": {},
     "output_type": "execute_result"
    }
   ],
   "source": [
    "# 배경과 찾는 이미지가 얼마나 유사한지\n",
    "# -1 ~ 1 , -1 = 전혀 상관없음, 1 = 완전 똑같음\n",
    "# 유사도가 0.7 이상인 값들만 사용\n",
    "import numpy as np\n",
    "np.where(res1 >= 0.75)\n",
    "# array 위 = y값, 아래 = x값\n"
   ]
  },
  {
   "cell_type": "code",
   "execution_count": null,
   "id": "d75be104-bfcd-424f-8838-19e2b7547c27",
   "metadata": {},
   "outputs": [],
   "source": []
  },
  {
   "cell_type": "code",
   "execution_count": null,
   "id": "33843774-0249-4e23-a886-ceec27ddd14f",
   "metadata": {},
   "outputs": [],
   "source": []
  },
  {
   "cell_type": "code",
   "execution_count": null,
   "id": "f6a31396-3794-41a8-aafd-8ade0da48852",
   "metadata": {},
   "outputs": [],
   "source": []
  },
  {
   "cell_type": "code",
   "execution_count": null,
   "id": "33cf45a1-db21-4d14-8567-d17d81889c17",
   "metadata": {},
   "outputs": [],
   "source": []
  },
  {
   "cell_type": "code",
   "execution_count": null,
   "id": "66a9a210-e9d3-42c9-9038-fcaccf0ac2d1",
   "metadata": {},
   "outputs": [],
   "source": []
  },
  {
   "cell_type": "code",
   "execution_count": null,
   "id": "959baf81-0ffe-4c2a-8b64-86cb4b3cab24",
   "metadata": {},
   "outputs": [],
   "source": []
  }
 ],
 "metadata": {
  "kernelspec": {
   "display_name": "Python 3 (ipykernel)",
   "language": "python",
   "name": "python3"
  },
  "language_info": {
   "codemirror_mode": {
    "name": "ipython",
    "version": 3
   },
   "file_extension": ".py",
   "mimetype": "text/x-python",
   "name": "python",
   "nbconvert_exporter": "python",
   "pygments_lexer": "ipython3",
   "version": "3.8.18"
  }
 },
 "nbformat": 4,
 "nbformat_minor": 5
}
