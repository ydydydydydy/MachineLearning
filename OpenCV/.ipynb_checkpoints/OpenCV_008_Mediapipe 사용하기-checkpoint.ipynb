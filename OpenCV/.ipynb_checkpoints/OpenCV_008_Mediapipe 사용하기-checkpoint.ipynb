{
 "cells": [
  {
   "cell_type": "code",
   "execution_count": 2,
   "id": "ebb5b511-1bba-45ea-82e5-1eb563d9362d",
   "metadata": {},
   "outputs": [
    {
     "ename": "error",
     "evalue": "OpenCV(4.8.1) D:\\a\\opencv-python\\opencv-python\\opencv\\modules\\core\\src\\arithm.cpp:230: error: (-215:Assertion failed) (mtype == CV_8U || mtype == CV_8S) && _mask.sameSize(*psrc1) in function 'cv::binary_op'\n",
     "output_type": "error",
     "traceback": [
      "\u001b[1;31m---------------------------------------------------------------------------\u001b[0m",
      "\u001b[1;31merror\u001b[0m                                     Traceback (most recent call last)",
      "Cell \u001b[1;32mIn[2], line 48\u001b[0m\n\u001b[0;32m     43\u001b[0m \u001b[38;5;66;03m# cv2.circle(img, (x,y), 20, (0,0,255), cv2.FILLED) # 원하는 위치에 점을 찍어주는 함수\u001b[39;00m\n\u001b[0;32m     44\u001b[0m \u001b[38;5;66;03m# 이미지를 집어넣을 주심 좌표(코의 위치) > x,,y\u001b[39;00m\n\u001b[0;32m     45\u001b[0m \u001b[38;5;66;03m# 마스크 이미지의 크기 > 123,132(tiger.shape)\u001b[39;00m\n\u001b[0;32m     47\u001b[0m sub_img \u001b[38;5;241m=\u001b[39m img[y\u001b[38;5;241m-\u001b[39m\u001b[38;5;241m100\u001b[39m : y\u001b[38;5;241m+\u001b[39m\u001b[38;5;241m100\u001b[39m, x\u001b[38;5;241m-\u001b[39m\u001b[38;5;241m100\u001b[39m : x\u001b[38;5;241m+\u001b[39m\u001b[38;5;241m100\u001b[39m]\n\u001b[1;32m---> 48\u001b[0m img_bg \u001b[38;5;241m=\u001b[39m \u001b[43mcv2\u001b[49m\u001b[38;5;241;43m.\u001b[39;49m\u001b[43mbitwise_and\u001b[49m\u001b[43m(\u001b[49m\u001b[43msub_img\u001b[49m\u001b[43m,\u001b[49m\u001b[43m \u001b[49m\u001b[43msub_img\u001b[49m\u001b[43m,\u001b[49m\u001b[43m \u001b[49m\u001b[43mmask\u001b[49m\u001b[43m \u001b[49m\u001b[38;5;241;43m=\u001b[39;49m\u001b[43m \u001b[49m\u001b[43mmask_b\u001b[49m\u001b[43m)\u001b[49m\n\u001b[0;32m     49\u001b[0m img_fg \u001b[38;5;241m=\u001b[39m cv2\u001b[38;5;241m.\u001b[39mbitwise_and(cat,cat, mask \u001b[38;5;241m=\u001b[39m mask_b_inv)\n\u001b[0;32m     50\u001b[0m bg_fg \u001b[38;5;241m=\u001b[39m cv2\u001b[38;5;241m.\u001b[39madd(img_bg,img_fg)\n",
      "\u001b[1;31merror\u001b[0m: OpenCV(4.8.1) D:\\a\\opencv-python\\opencv-python\\opencv\\modules\\core\\src\\arithm.cpp:230: error: (-215:Assertion failed) (mtype == CV_8U || mtype == CV_8S) && _mask.sameSize(*psrc1) in function 'cv::binary_op'\n"
     ]
    }
   ],
   "source": [
    "import mediapipe as mp\n",
    "import cv2\n",
    "\n",
    "# 얼굴에서 특징점을 찾을 수 있는 기능 불러오기\n",
    "mp_face_mesh = mp.solutions.face_mesh\n",
    "# 찾은 특징점 표현하기\n",
    "mp_drawing = mp.solutions.drawing_utils\n",
    "# 특징점 그리기 속성\n",
    "drawing_spec = mp_drawing.DrawingSpec(thickness = 1, color = (0,0,255))\n",
    "# 얼굴에서 특징점 찾기 속성\n",
    "face_mesh = mp_face_mesh.FaceMesh(\n",
    "    min_detection_confidence = 0.5, # 얼굴 검출 확률(자체 판단) 50% 이상인 것들만 출력하기\n",
    "    min_tracking_confidence = 0.5  # 특징점 검출 확률(자체 판단) 50% 이상인 것들만 출력하기\n",
    ")\n",
    "# 한 번만 실행하면 되는 코드\n",
    "cat = cv2.imread('images/doong.png')\n",
    "cat = cv2.resize(cat, (200, 200)) # 123, 132 > 200, 200 으로 크기 변경\n",
    "mask2gray = cv2.cvtColor(cat , cv2.COLOR_BGR2GRAY)\n",
    "_, mask_b = cv2.threshold(mask2gray, 200, 255, cv2.THRESH_BINARY)\n",
    "mask_b_inv = cv2.bitwise_not(mask_b)\n",
    "\n",
    "cap = cv2.VideoCapture(0)\n",
    "\n",
    "while cap.isOpened():\n",
    "    ret, img = cap.read()\n",
    "    if not ret:\n",
    "        break\n",
    "\n",
    "    # 카메라에서 불러온 사진에서 얼굴 특징점 찾기\n",
    "    results = face_mesh.process(img)\n",
    "\n",
    "    # 얼굴의 특징점(478개)을 감지했을 때 실행하겠다\n",
    "    if results.multi_face_landmarks is not None:\n",
    "        #print(results.multi_face_landmarks)\n",
    "        #for res in results.multi_face_landmarks:\n",
    "        #    mp_drawing .draw_landmarks(img, res, mp_face_mesh.FACEMESH_TESSELATION)\n",
    "        # 478개 점을 사용하기가 편함\n",
    "        face_landmarks = results.multi_face_landmarks[0]\n",
    "        \n",
    "        # 코의 좌표 찾기\n",
    "        x = int(face_landmarks.landmark[4].x * img.shape[1])\n",
    "        y = int(face_landmarks.landmark[4].y * img.shape[0])\n",
    "        # cv2.circle(img, (x,y), 20, (0,0,255), cv2.FILLED) # 원하는 위치에 점을 찍어주는 함수\n",
    "        # 이미지를 집어넣을 주심 좌표(코의 위치) > x,,y\n",
    "        # 마스크 이미지의 크기 > 123,132(tiger.shape)\n",
    "\n",
    "        sub_img = img[y-100 : y+100, x-100 : x+100]\n",
    "        img_bg = cv2.bitwise_and(sub_img, sub_img, mask = mask_b)\n",
    "        img_fg = cv2.bitwise_and(cat,cat, mask = mask_b_inv)\n",
    "        bg_fg = cv2.add(img_bg,img_fg)\n",
    "        img[y-100 : y+100, x-100 : x+100] = bg_fg\n",
    "\n",
    "            \n",
    "    cv2.imshow('video',img)\n",
    "    if cv2.waitKey(33) == 49:\n",
    "        break \n",
    "cap.release()\n",
    "cv2.destroyAllWindows()"
   ]
  },
  {
   "cell_type": "code",
   "execution_count": null,
   "id": "c60fd533-333b-4d86-a06c-f3a73a91dd18",
   "metadata": {},
   "outputs": [],
   "source": [
    "import cv2\n",
    "\n",
    "psy = cv2.imread('images/psy.png')\n",
    "tiger = cv2.imread('images/tiger.png')\n",
    "\n",
    "mask2gray = cv2.cvtColor(tiger , cv2.COLOR_BGR2GRAY)\n",
    "_, mask_b = cv2.threshold(mask2gray, 200, 255, cv2.THRESH_BINARY)\n",
    "mask_b_inv = cv2.bitwise_not(mask_b)\n",
    "sub_psy = psy[ 94:217 , 239:371]\n",
    "img_bg = cv2.bitwise_and(sub_psy, sub_psy, mask = mask_b)\n",
    "img_fg = cv2.bitwise_and(tiger,tiger, mask = mask_b_inv)\n",
    "bg_fg = cv2.add(img_bg,img_fg)\n",
    "psy[ 94:217 , 239:371] = bg_fg\n",
    "\n",
    "cv2.imshow('psy',psy)\n",
    "cv2.waitKey(0)\n",
    "cv2.destroyAllWindows()"
   ]
  },
  {
   "cell_type": "code",
   "execution_count": null,
   "id": "4dfe57c4-0060-4c9e-8451-616e1d026ca3",
   "metadata": {},
   "outputs": [],
   "source": []
  },
  {
   "cell_type": "code",
   "execution_count": null,
   "id": "bd72a45e-50b4-46bf-a3fc-a27615b2618a",
   "metadata": {},
   "outputs": [],
   "source": []
  },
  {
   "cell_type": "code",
   "execution_count": null,
   "id": "78e4d709-d617-4043-9a15-a8c8fb04d11d",
   "metadata": {},
   "outputs": [],
   "source": []
  },
  {
   "cell_type": "code",
   "execution_count": null,
   "id": "2470f2d6-70d0-4875-a1f0-d3e20539820f",
   "metadata": {},
   "outputs": [],
   "source": []
  },
  {
   "cell_type": "code",
   "execution_count": null,
   "id": "55a6db3b-4f4f-4062-b869-571c7387a93f",
   "metadata": {},
   "outputs": [],
   "source": []
  },
  {
   "cell_type": "code",
   "execution_count": null,
   "id": "00460f9f-1c4f-4ca0-b11e-225a21f7ce27",
   "metadata": {},
   "outputs": [],
   "source": []
  }
 ],
 "metadata": {
  "kernelspec": {
   "display_name": "Python 3 (ipykernel)",
   "language": "python",
   "name": "python3"
  },
  "language_info": {
   "codemirror_mode": {
    "name": "ipython",
    "version": 3
   },
   "file_extension": ".py",
   "mimetype": "text/x-python",
   "name": "python",
   "nbconvert_exporter": "python",
   "pygments_lexer": "ipython3",
   "version": "3.10.9"
  }
 },
 "nbformat": 4,
 "nbformat_minor": 5
}
