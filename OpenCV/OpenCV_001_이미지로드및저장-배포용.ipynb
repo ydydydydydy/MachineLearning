{
 "cells": [
  {
   "cell_type": "markdown",
   "metadata": {
    "id": "idNXu3zn1vO2"
   },
   "source": [
    "<img src=\"https://arome1004.cafe24.com/images/opencv/lecture_image/00_title.png\">"
   ]
  },
  {
   "cell_type": "markdown",
   "metadata": {
    "id": "cJnUdXhB1vO4"
   },
   "source": [
    "<table border=1 width=100%>\n",
    "    <tr><td style=\"border: 1px solid black; width:600px; height:40px; text-align: center;\"><font size=4 color=blue><b>[1차시] 학습목표</b></font></td></tr>       \n",
    "    <tr><td style=\"border: 1px solid black; text-align: left;\"><font size=3>○ OpenCV의 사용법을 학습한다.<br>\n",
    "    \n",
    "○ 이미지를 읽는 방법을 학습한다.<br>\n",
    "\n",
    "○ 이미지를 출력하는 방법을 학습한다 (새 창, Matplotlib)           \n",
    "        </font></td></tr>   \n",
    "</table>"
   ]
  },
  {
   "cell_type": "markdown",
   "metadata": {
    "id": "eHNkcopr1vO5"
   },
   "source": [
    "# OpenCV 개요 및 환경설정"
   ]
  },
  {
   "cell_type": "markdown",
   "metadata": {
    "id": "gONZNbz-1vO5"
   },
   "source": [
    "## 필요 선수학습\n",
    "\n",
    "- 파이썬\n",
    "- 파이썬 라이브러리 (Numpy, Pandas, Matplotlib 등)\n",
    "\n",
    "<img src=\"https://arome1004.cafe24.com/images/opencv/lecture_image/01_tools.png\" width=50%>"
   ]
  },
  {
   "cell_type": "markdown",
   "metadata": {
    "id": "Civj6t9q1vO5"
   },
   "source": [
    "## 개요\n",
    "\n",
    "- <b>OpenCV </b>\n",
    "  - Gray Bradsky에 의해 1996년 인텔에서 시작된 프로젝트\n",
    "  - 컴퓨터 비전, 머신러닝과 관련된 다양한 알고리즘을 지원\n",
    "  - C++, Python, Java 등의 언어를 지원\n",
    "  - CUDA(Compute Unified Device Architecture), OpenCL (Open Computing Language)에 기반한 인터페이스를 지원\n",
    "  <br><br>\n",
    "- <b>OpenCV + Python</b>\n",
    "  - OpenCV의 파이썬 API로 C/C++로 된 OpenCV 라이브러리들을 파이썬 래퍼로 감싼 후에 파이썬 모듈을 추가시킨 것\n",
    "  - 속도문제를 해결하기 위해 속도가 문제되는 코드는 C/C++로 코딩하고 파이썬에서 불러 사용할 수 있는 파이썬 래퍼를 제공\n",
    "  - OpenCV 배열은 Numpy 배열로 변환되어 내부 처리를 수행 (Numpy의 모든 연산 가능)\n",
    "  - Numpy, SciPy, Matplotlib 라이브러리와도 호환"
   ]
  },
  {
   "cell_type": "markdown",
   "metadata": {
    "id": "G2aRL89L1vO6"
   },
   "source": [
    "## 추천 사이트\n",
    "- https://opencv.org/ : OpenCV 공식 사이트\n",
    "  - https://github.com/opencv/opencv : OpenCV github 사이트\n",
    "  - https://docs.opencv.org/4.x/d9/df8/tutorial_root.html : 튜토리얼\n",
    "  - https://docs.opencv.org/ : 온라인 문서 (명령어)\n",
    "- https://leechamin.tistory.com/category/%F0%9F%90%8DPython/OpenCV?page=10 : 블로그  \n",
    "- https://www.codeproject.com/Tags/OpenCV : 다양한 OpenCV 코드 제공\n",
    "- https://learnopencv.com/ : 프로젝트에 활용하기 좋은 다양한 코드 제공\n",
    "- https://github.com/spmallick/learnopencv/tree/master/ : 파이토치로 된 좋은 예시 코드\n",
    "- https://github.com/spmallick/learnopencv/blob/master/README.md?ck_subscriber_id=1390420859\n",
    "- https://meissa.tistory.com/ : OpenCV 고급 응용 예시 코드 (딥러닝 학습 포함)\n",
    "- http://www.computer-vision-software.com/blog/ : 컴퓨터 비젼 관련 해외 블로그\n",
    "- https://github.com/LongxingTan/Yolov5 : Yolov5 코드\n",
    "- https://blog.naver.com/samsjang/220498694383 : 블로그\n",
    "- https://m.blog.naver.com/samsjang/220498694383 : 블로그\n",
    "- https://cafe.naver.com/opencv : OpenCV 커뮤니티 카페\n",
    "- https://m.blog.naver.com/teach3450/221906560229 : 블로그 (다양한 알고리즘 소개)\n",
    "\n",
    "\n"
   ]
  },
  {
   "cell_type": "markdown",
   "metadata": {
    "id": "KFOfjrc51vO6"
   },
   "source": [
    "##  OpenCV 환경 설정\n",
    "\n",
    "###  아나콘다 네비게이터에서 설치하는 방법\n",
    "- 아나콘다 네비게이터 실행\n",
    "\n",
    "<img src=\"https://arome1004.cafe24.com/images/opencv/lecture_image/01_setting1.png\" width=30%>\n",
    "\n",
    "- Python 3.7 사용\n",
    "\n",
    "- Environments 메뉴를 선택하고 Create 버튼을 클릭\n",
    "- Name에 OpenCV를 입력하고 Python 버전은 3.7을 선택\n",
    "  - 3.7이 나오지 않는다면 update index 버튼을 클릭하여 업데이터 진행\n",
    "- Create 버튼을 클릭하여 새로운 환경 생성  \n",
    "  \n",
    "<img src=\"https://arome1004.cafe24.com/images/opencv/lecture_image/01_setting2.png\" width=80%>\n",
    "\n",
    "\n",
    "- 생성된 환경을 선택하고 리스트에서 Not installed 항목을 선택\n",
    "- 입력창에 opencv를 입력하여 libopencv, opencv, py-opencv를 선택\n",
    "- 같은 방법으로 Jupyther, numpy(자동설치확인), pandas, matplotlib, searborn, scikit-learn, tensorflow-gpu, cudnn, codatookit을 선택\n",
    "- Apply 버튼을 클릭하여 설치 준비\n",
    "\n",
    "<img src=\"https://arome1004.cafe24.com/images/opencv/lecture_image/01_setting3.png\" width=80%>\n",
    "\n",
    "\n",
    "- 새창이 뜨면 선택한 목록을 확인하고 Apply 버튼을 클릭하여 설치 시작\n",
    "\n",
    "<img src=\"https://arome1004.cafe24.com/images/opencv/lecture_image/01_setting4.png\" width=40%>\n",
    "\n",
    "- 생성한 환경으로 주피터 노트북 실행\n",
    "\n",
    "<img src=\"https://arome1004.cafe24.com/images/opencv/lecture_image/01_setting5.png\" width=30%>"
   ]
  },
  {
   "cell_type": "markdown",
   "metadata": {
    "id": "SkXtz5Ac1vO7"
   },
   "source": [
    "### 프롬프트 창에서 설치하는 방법\n",
    "\n",
    "- https://www.lfd.uci.edu/~gohlke/pythonlibs/ 에서 다운로드하거나 아래와 같이 입력하여 설치\n"
   ]
  },
  {
   "cell_type": "code",
   "execution_count": 1,
   "metadata": {
    "id": "gCclwfqW1vO7"
   },
   "outputs": [],
   "source": [
    "#!pip uninstall opencv-python\n",
    "#!pip uninstall opencv-contrib-python"
   ]
  },
  {
   "cell_type": "code",
   "execution_count": 2,
   "metadata": {
    "id": "-Hxl1-h390Yz",
    "outputId": "d123f8a3-9728-4633-d9b6-c8356ea543c2",
    "scrolled": true
   },
   "outputs": [
    {
     "name": "stdout",
     "output_type": "stream",
     "text": [
      "Requirement already satisfied: opencv-python in c:\\users\\gjaischool\\anaconda3\\lib\\site-packages (4.8.1.78)\n",
      "Requirement already satisfied: opencv-contrib-python in c:\\users\\gjaischool\\anaconda3\\lib\\site-packages (4.8.1.78)\n",
      "Requirement already satisfied: numpy>=1.19.3 in c:\\users\\gjaischool\\anaconda3\\lib\\site-packages (from opencv-python) (1.23.5)\n"
     ]
    }
   ],
   "source": [
    "# opencv-python : 주요 모듈이 포함된 라이브러리\n",
    "# opencv-contrib-python : 추가 모듈이 포함된 라이브러리\n",
    "\n",
    "#!pip install opencv-python==3.4.11.45\n",
    "#!pip install opencv-contrib-python==3.4.11.45\n",
    "!pip install opencv-python opencv-contrib-python"
   ]
  },
  {
   "cell_type": "code",
   "execution_count": 3,
   "metadata": {
    "id": "-xGqdmCw1vO9",
    "outputId": "3603c9ea-ffe6-4ee4-b83b-175033fdb3bd"
   },
   "outputs": [
    {
     "name": "stdout",
     "output_type": "stream",
     "text": [
      "4.8.1\n"
     ]
    }
   ],
   "source": [
    "# opencv 설치 확인\n",
    "import cv2\n",
    "\n",
    "# 버전 확인\n",
    "print(cv2.__version__)"
   ]
  },
  {
   "cell_type": "code",
   "execution_count": 4,
   "metadata": {
    "colab": {
     "base_uri": "https://localhost:8080/"
    },
    "executionInfo": {
     "elapsed": 24701,
     "status": "ok",
     "timestamp": 1694680758446,
     "user": {
      "displayName": "강성관",
      "userId": "00571094306841577419"
     },
     "user_tz": -540
    },
    "id": "jqsLofa917U6",
    "outputId": "d58d98cd-c498-4ef8-bf34-c3fb10a1c820"
   },
   "outputs": [],
   "source": [
    "#from google.colab import drive\n",
    "#drive.mount('/content/drive')"
   ]
  },
  {
   "cell_type": "code",
   "execution_count": 5,
   "metadata": {
    "colab": {
     "base_uri": "https://localhost:8080/"
    },
    "executionInfo": {
     "elapsed": 3,
     "status": "ok",
     "timestamp": 1694680808980,
     "user": {
      "displayName": "강성관",
      "userId": "00571094306841577419"
     },
     "user_tz": -540
    },
    "id": "HVs-8YHL152X",
    "outputId": "5625998b-520b-40c7-aa1c-eeb354bc0765"
   },
   "outputs": [],
   "source": [
    "#%cd /content/drive/MyDrive/Colab Notebooks/인공지능강의/opencv"
   ]
  },
  {
   "cell_type": "markdown",
   "metadata": {
    "id": "yyE9fiNR7YFx"
   },
   "source": [
    "## 이미지를 읽고 출력하기\n",
    "### 이미지를 읽고 새창에 출력하기"
   ]
  },
  {
   "cell_type": "markdown",
   "metadata": {
    "id": "1OiRFwzOarFj"
   },
   "source": [
    "  - <font color=red>cv2.imread(파일명, 이미지 형식)</font> : 이미지 파일을 읽기 위한 객체를 리턴\n",
    "    - 이미지형식 : 칼라 (cv2.IMREAD_COLOR), 흑백(cv2.IMREAD_GRAYSCALE) 등\n",
    "  - <font color=red>cv2.imshow(제목, 이미지 객체)</font>  : 이미지 출력\n",
    "  - <font color=red>cv2.waitKey(0)</font>  : 키보드 입력을 기다리는 시간 설정 (0 : 계속 기다림)\n",
    "    - 1/1000초 단위\n",
    "  - <font color=red>cv2.destroyAllWindows()</font>  : 생성한 윈도우를 모두 닫는다\n",
    "\n",
    "<img src=\"https://arome1004.cafe24.com/images/opencv/lecture_image/01_lenna.png\" width=30%>"
   ]
  },
  {
   "cell_type": "code",
   "execution_count": null,
   "metadata": {
    "id": "eVjfGGxqarFf",
    "scrolled": true
   },
   "outputs": [],
   "source": [
    "import cv2\n",
    "\n",
    "# 이미지 읽기\n",
    "img = cv2.imread(\"./images/image.jpg\")\n",
    "\n",
    "# 새창에 이미지 출력\n",
    "cv2.imshow(\"test\", img)\n",
    "\n",
    "# 사용자가 아무키나 누를때까지 대기\n",
    "cv2.waitKey(0)\n",
    "\n",
    "# 연 창을 닫아준다\n",
    "cv2.destroyAllWindows()"
   ]
  },
  {
   "cell_type": "markdown",
   "metadata": {
    "id": "beIqTKmo1vO9"
   },
   "source": [
    "<table border=1 width=100%>\n",
    "    <tr><td style=\"border: 1px solid black; width:600px; text-align: left;\"><font size=4 color=red><b>실습문제</b></font><br><br>\n",
    "        <font size=4>○ 학습한 OpenCV 함수를 이용해서 다른 이미지를 출력해보자.</font></td></tr>       \n",
    "    <tr><td style=\"border: 1px solid black; text-align: left;\">\n",
    "        <img src=\"https://arome1004.cafe24.com/images/opencv/lecture_image/01_hanam.png\" width=40%></td></tr>   \n",
    "</table>"
   ]
  },
  {
   "cell_type": "markdown",
   "metadata": {
    "id": "K2C3kGDP7YF1"
   },
   "source": [
    "### matplotlib를 이용하여 이미지 출력하기"
   ]
  },
  {
   "cell_type": "code",
   "execution_count": null,
   "metadata": {
    "id": "Z9p339Qc7YF1",
    "outputId": "e554031b-5b05-474f-8b0f-538c5c1282b3"
   },
   "outputs": [],
   "source": [
    "import matplotlib.pyplot as plt\n",
    "\n",
    "plt.imshow(img)\n",
    "plt.show"
   ]
  },
  {
   "cell_type": "markdown",
   "metadata": {
    "id": "nmGDB9Mt1vO-"
   },
   "source": [
    "- OpenCV는 색상공간을 BGR(Blue Green Red)을 사용\n",
    "- Python 이미지들은 RGB(Red Green Blue)을 사용하므로 변환 필요\n",
    "- 따라서, OpenCV로 읽은 이미지를 Matplotlib으로 출력하려면 색상공간을 변환해야 함\n",
    "\n",
    "<img src=\"https://arome1004.cafe24.com/images/opencv/lecture_image/01_color_space.png\" width=40%>\n",
    "\n",
    "- <font color=red>cv2. cvtColor(img, 색상변환옵션)</font>\n",
    "  - 색상변환옵션 : cv2.COLOR_BGR2RGB, cv2.COLOR_RGB2GRAY, cv2.COLOR_RGB2HSV 등"
   ]
  },
  {
   "cell_type": "code",
   "execution_count": null,
   "metadata": {
    "id": "rZFtlGwL_enS",
    "outputId": "1198cfa8-7986-4732-9afe-b427806e5ea0"
   },
   "outputs": [],
   "source": [
    "# R<-> 변경\n",
    "img2 = cv2.cvtColor(img, cv2.COLOR_BGR2RGB)\n",
    "\n",
    "plt.imshow(img2)\n",
    "# 눈금 삭제\n",
    "plt.xticks([])\n",
    "plt.yticks([])\n",
    "plt.show()"
   ]
  },
  {
   "cell_type": "markdown",
   "metadata": {
    "id": "XKl-4B6V1vO_"
   },
   "source": [
    "### 직접 Red 채널과 Blue 채널을 바꾸기\n",
    "\n",
    "-  <font color=red>b, g, r = cv2.split(img)</font> : img파일을 b,g,r로 분리\n",
    "-  <font color=red>cv2.merge([r,g,b])</font> : b, r을 바꿔서 Merge"
   ]
  },
  {
   "cell_type": "code",
   "execution_count": null,
   "metadata": {
    "id": "9Bx8QlZq1vO_"
   },
   "outputs": [],
   "source": [
    "# 실습"
   ]
  },
  {
   "cell_type": "markdown",
   "metadata": {
    "id": "m0BDes021vO_"
   },
   "source": [
    "<table border=1 width=100%>\n",
    "    <tr><td style=\"border: 1px solid black; width:600px; text-align: left;\"><font size=4 color=red><b>실습문제</b></font><br><br>\n",
    "        <font size=3>○ 다른 이미지를 이용해서 Red 채널과 Blue 채널의 색상을 바꿔보자.</font></td></tr>\n",
    "</table>"
   ]
  },
  {
   "cell_type": "markdown",
   "metadata": {
    "id": "WUnBpH_W1vO_"
   },
   "source": [
    "## Widget를 이용해서 이미지 출력하기"
   ]
  },
  {
   "cell_type": "code",
   "execution_count": null,
   "metadata": {
    "id": "Nd5BvkYi1vO_"
   },
   "outputs": [],
   "source": [
    "!pip install ipywidgets"
   ]
  },
  {
   "cell_type": "code",
   "execution_count": null,
   "metadata": {
    "id": "gHZLmSGb1vO_"
   },
   "outputs": [],
   "source": [
    "import ipywidgets as wid\n",
    "from IPython.display import display\n",
    "import cv2\n",
    "\n",
    "img = cv2.imread(\"./images/image.jpg\")\n",
    "\n",
    "# 이미지를 출력할 위젯 생성\n",
    "h, w, c = img.shape\n",
    "\n",
    "# Image 위젯 설정 (이미지 타입, 크기)\n",
    "img_wid = wid.Image(format=\"jpeg\", width=w, height=h)\n",
    "\n",
    "# 위젯 출력\n",
    "display(img_wid)\n",
    "\n",
    "# 위젯에 읽은 이미지를 출력\n",
    "# 배열로 된 이미지를 JPG 타입으로 변환\n",
    "_, en_img = cv2.imencode(\".jpeg\", img)\n",
    "\n",
    "# 위젯에 변환된 이미지 전송 - byte 단위로 전송\n",
    "img_wid.value = en_img.tobytes()"
   ]
  },
  {
   "cell_type": "markdown",
   "metadata": {
    "id": "wfFdHPuw1vO_"
   },
   "source": [
    "<table border=1 width=100%>\n",
    "    <tr><td style=\"border: 1px solid black; width:600px; height:40px; text-align: center;\"><font size=4 color=blue><b>[1차시] 학습요약</b></font></td></tr>       \n",
    "    <tr><td style=\"border: 1px solid black; text-align: left;\"><font size=3>○ <font color=\"red\"><b>cv2.imread()</b></font> : 이미지를 읽음<br>\n",
    "○ <font color=\"red\"><b>cv2.imshow()</b></font> : 새창에 이미지 출력<br>\n",
    "\n",
    "○ <font color=\"red\"><b>cv2.cvtColor()</b></font> : 이미지의 색상공간을 변환<br>\n",
    "\n",
    "○ <font color=\"red\"><b>cv2.waitKey()</b></font> : 키 입력 대기 (1/000초 단위)<br>\n",
    "\n",
    "○ <font color=\"red\"><b>cv2.destroyAllWindows()</b></font> : 생성한 윈도우를 모두 닫음<br>\n",
    "\n",
    "○ OpenCV 색상공간과 Python의 색상공간이 다르므로 변환이 필요 (BGR → RGB)\n",
    "        </font></td></tr>   \n",
    "</table>"
   ]
  }
 ],
 "metadata": {
  "colab": {
   "provenance": []
  },
  "hide_input": false,
  "kernelspec": {
   "display_name": "Python 3 (ipykernel)",
   "language": "python",
   "name": "python3"
  },
  "language_info": {
   "codemirror_mode": {
    "name": "ipython",
    "version": 3
   },
   "file_extension": ".py",
   "mimetype": "text/x-python",
   "name": "python",
   "nbconvert_exporter": "python",
   "pygments_lexer": "ipython3",
   "version": "3.10.9"
  },
  "toc": {
   "base_numbering": 1,
   "nav_menu": {},
   "number_sections": true,
   "sideBar": true,
   "skip_h1_title": false,
   "title_cell": "Table of Contents",
   "title_sidebar": "Contents",
   "toc_cell": false,
   "toc_position": {
    "height": "calc(100% - 180px)",
    "left": "10px",
    "top": "150px",
    "width": "165px"
   },
   "toc_section_display": true,
   "toc_window_display": true
  }
 },
 "nbformat": 4,
 "nbformat_minor": 1
}
