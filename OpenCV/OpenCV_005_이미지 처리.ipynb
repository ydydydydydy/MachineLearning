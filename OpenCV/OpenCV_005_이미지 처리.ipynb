{
 "cells": [
  {
   "cell_type": "code",
   "execution_count": 1,
   "id": "ac06b192",
   "metadata": {},
   "outputs": [],
   "source": [
    "# 1. 카메라 연동해서 띄우기\n",
    "# 2-1. 버튼(1) 누르면 흑백화면으로 바꾸기\n",
    "# 2-2. 버튼(2) 누르면 좌우반전 시키기\n",
    "# 2-3. 버튼(3) 누르면 이진화 이미지 만들기\n",
    "# 2-4. 버튼(4) 누르면 종료하기"
   ]
  },
  {
   "cell_type": "code",
   "execution_count": 1,
   "id": "7a33c6e3",
   "metadata": {
    "scrolled": true
   },
   "outputs": [
    {
     "name": "stdout",
     "output_type": "stream",
     "text": [
      "종료\n"
     ]
    }
   ],
   "source": [
    "import cv2\n",
    "\n",
    "# 카메라 연동\n",
    "cap = cv2.VideoCapture(0)\n",
    "\n",
    "# 1번 버튼을 눌렀음을 감지하기 위한 변수\n",
    "gray = False\n",
    "thres = False\n",
    "flip_rl = False\n",
    "flip_ud = False\n",
    "\n",
    "while True:\n",
    "    ret, frame = cap.read() \n",
    "\n",
    "    if not ret:\n",
    "        print('종료')\n",
    "        break\n",
    "\n",
    "    key = cv2.waitKey(30) # 30ms = 초당 33장의 사진, 코드가 실행되는 시간도 있기 때문에\n",
    "\n",
    "    # 버튼(1) 누르면 흑백화면으로 바꾸기\n",
    "    if key == 49:\n",
    "        # 버튼을 눌렀을때만 흑백으로 바꾸기\n",
    "        # frame = cv2.cvtColor(frame, cv2.COLOR_RGB2GRAY)\n",
    "        # 버튼 누르면 흑백 다시 누르면 흑백 제거\n",
    "        if gray:\n",
    "            gray = False\n",
    "        else :\n",
    "            gray = True\n",
    "\n",
    "    if gray: # 버튼을 한번 눌러서 gray의 값에 True가 대입되면 실행\n",
    "        frame = cv2.cvtColor(frame,cv2.COLOR_RGB2GRAY)\n",
    "\n",
    "    if key == 50:\n",
    "        if thres:\n",
    "            thres = False\n",
    "        else:\n",
    "            thres = True\n",
    "    if thres:\n",
    "        _, frame = cv2.threshold(frame, 128, 255, cv2.THRESH_BINARY)\n",
    "\n",
    "    if key == 51: # 좌우 뒤집기\n",
    "        if flip_rl:\n",
    "            flip_rl = False\n",
    "        else:\n",
    "            flip_rl = True\n",
    "    if flip_rl:\n",
    "        frame = cv2.flip(frame,1)\n",
    "\n",
    "    if key == 52: # 상하 뒤집기\n",
    "        if flip_ud:\n",
    "            flip_ud = False\n",
    "        else:\n",
    "            flip_ud = True\n",
    "    if flip_ud:\n",
    "        frame = cv2.flip(frame,-1)\n",
    "        \n",
    "    cv2.imshow('video', frame)\n",
    "    \n",
    "    # 5번 버튼\n",
    "    if key == 53: # 4($)을 눌렀을때\n",
    "        print('종료')\n",
    "        break\n",
    "\n",
    "cap.release()\n",
    "cv2.destroyAllWindows()"
   ]
  }
 ],
 "metadata": {
  "kernelspec": {
   "display_name": "Python 3 (ipykernel)",
   "language": "python",
   "name": "python3"
  },
  "language_info": {
   "codemirror_mode": {
    "name": "ipython",
    "version": 3
   },
   "file_extension": ".py",
   "mimetype": "text/x-python",
   "name": "python",
   "nbconvert_exporter": "python",
   "pygments_lexer": "ipython3",
   "version": "3.10.9"
  }
 },
 "nbformat": 4,
 "nbformat_minor": 5
}
