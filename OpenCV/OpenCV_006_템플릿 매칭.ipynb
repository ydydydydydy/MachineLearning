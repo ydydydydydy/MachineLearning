{
 "cells": [
  {
   "cell_type": "code",
   "execution_count": 1,
   "id": "9976d216-5028-4ab0-b832-d4702997f938",
   "metadata": {},
   "outputs": [],
   "source": [
    "# 템플릿 매칭\n",
    "# 배경 사진에서 원하는 물체 찾기\n",
    "# 메이플 배경 이미지에서 파란 달팽이, 초록 버섯 찾기\n",
    "# 좌상단부터 한 픽셀씩 움직이면서 원하는 물체와 배경이 유사한지 검색"
   ]
  },
  {
   "cell_type": "code",
   "execution_count": null,
   "id": "b1905909-09fb-4d1b-9e09-e5d6c513f16b",
   "metadata": {},
   "outputs": [],
   "source": [
    "import cv2\n",
    "# 배경화면\n",
    "img = cv2.imread('images/maple.jpg')\n",
    "img_gray = cv2.cvtColor(img, cv2.COLOR_RGB2GRAY) # 흑백 이미지로 만들어주면 더 빨리 찾을 수 있음\n",
    "\n",
    "blue_snail = cv2.imread('images/blue_snail.jpg')\n",
    "blue_snail_gray = cv2.cvtColor(blue_snail, cv2.COLOR_RGB2GRAY)\n",
    "h1, w1 = blue_snail_gray.shape # 찾을 대상(흑백 이미지)의 세로, 가로 크기 받아오기\n",
    "\n",
    "green_mush = cv2.imread('images/green_mush.jpg')\n",
    "green_mush_gray = cv2.cvtColor(green_mush, cv2.COLOR_RGB2GRAY)\n",
    "h2, w2 = green_mush_gray.shape\n",
    "\n",
    "# 이미지 찾기(배경이미지, 찾을 이미지, 찾을 방법 값을 넣어줌)\n",
    "res1 = cv2.matchTemplate(img_gray, blue_snail_gray, cv2.TM_CCOEFF_NORMED )\n",
    "res2 = cv2.matchTemplate(img_gray, green_mush_gray, cv2.TM_CCOEFF_NORMED )\n",
    "\n",
    "import numpy as np\n",
    "loc = np.where(res1 >= 0.75)\n",
    "loc2 = np.where(res2 >= 0.75)\n",
    "# array 위 = y값, 아래 = x값\n",
    "\n",
    "# 데이터 순서 역으로 바꾸기\n",
    "for pt in zip(*loc[::-1]):\n",
    "    # print(pt) # x,y 좌표가 들어있음\n",
    "    # 배경 이미지에 위치 사각형으로 표현하기\n",
    "    # cv2.rectangle(배경이미지, 좌상단 좌표, 우하단 좌표, 색상, 두께)\n",
    "    cv2.rectangle(img, pt, (pt[0] + w1, pt[1] + h1), (0,0,255), 3 )\n",
    "\n",
    "for pt in zip(*loc2[::-1]):\n",
    "    cv2.rectangle(img, pt, (pt[0] + w2, pt[1] + h2), (255,0,0), 3 )\n",
    "\n",
    "cv2.imshow('maple',img)\n",
    "#cv2.imshow('snail',blue_snail)\n",
    "#cv2.imshow('mush',green_mush)\n",
    "cv2.waitKey(0)\n",
    "cv2.destroyAllWindows()"
   ]
  },
  {
   "cell_type": "code",
   "execution_count": 3,
   "id": "82c512ef-75c8-4456-8b6f-8022658a843f",
   "metadata": {
    "scrolled": true
   },
   "outputs": [
    {
     "name": "stdout",
     "output_type": "stream",
     "text": [
      "(233, 29)\n",
      "(454, 411)\n",
      "(455, 411)\n",
      "(455, 412)\n",
      "(522, 531)\n",
      "(523, 531)\n",
      "(522, 532)\n",
      "(523, 532)\n",
      "(524, 532)\n",
      "(985, 532)\n",
      "(986, 532)\n",
      "(523, 533)\n",
      "(524, 533)\n",
      "(985, 533)\n",
      "(986, 533)\n",
      "(319, 684)\n",
      "(988, 684)\n",
      "(218, 685)\n",
      "(219, 685)\n",
      "(319, 685)\n",
      "(320, 685)\n",
      "(409, 685)\n",
      "(549, 685)\n",
      "(550, 685)\n",
      "(681, 685)\n",
      "(682, 685)\n",
      "(731, 685)\n",
      "(988, 685)\n",
      "(989, 685)\n",
      "(218, 686)\n",
      "(219, 686)\n",
      "(409, 686)\n",
      "(550, 686)\n"
     ]
    }
   ],
   "source": [
    "# 배경과 찾는 이미지가 얼마나 유사한지\n",
    "# -1 ~ 1 , -1 = 전혀 상관없음, 1 = 완전 똑같음\n",
    "# 유사도가 0.7 이상인 값들만 사용\n",
    "import numpy as np\n",
    "loc = np.where(res1 >= 0.75)\n",
    "# array 위 = y값, 아래 = x값\n",
    "\n",
    "# 데이터 순서 역으로 바꾸기\n",
    "for pt in zip(*loc[::-1]):\n",
    "    print(pt)\n",
    "# for문 & zip 함수 사용해서 (X, y)로묶어주기 \n",
    "# array 위 = X값, 아래 = y값\n",
    "# 'X좌표 233, y좌표 29인 곳에 있다'"
   ]
  }
 ],
 "metadata": {
  "kernelspec": {
   "display_name": "Python 3 (ipykernel)",
   "language": "python",
   "name": "python3"
  },
  "language_info": {
   "codemirror_mode": {
    "name": "ipython",
    "version": 3
   },
   "file_extension": ".py",
   "mimetype": "text/x-python",
   "name": "python",
   "nbconvert_exporter": "python",
   "pygments_lexer": "ipython3",
   "version": "3.10.9"
  }
 },
 "nbformat": 4,
 "nbformat_minor": 5
}
