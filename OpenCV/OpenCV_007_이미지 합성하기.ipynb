{
 "cells": [
  {
   "cell_type": "code",
   "execution_count": 12,
   "id": "331bd5e5-d0b3-4eb5-b674-d724d6bdece4",
   "metadata": {},
   "outputs": [],
   "source": [
    "import cv2\n",
    "\n",
    "psy = cv2.imread('images/psy.png')\n",
    "tiger = cv2.imread('images/tiger.png')\n",
    "\n",
    "# 마스크 이진이미지 만들기 = 사용할 부분과 사용하지 않을 부분 구분하기\n",
    "# 검은 부분 사용, 흰부분 사용 X\n",
    "mask2gray = cv2.cvtColor(tiger, cv2.COLOR_BGR2GRAY)\n",
    "_, mask_b = cv2.threshold(mask2gray, 200, 255, cv2.THRESH_BINARY)\n",
    "\n",
    "# 마스크 이미지 반전\n",
    "# 흰부분 사용, 검은 부분 사용 X(위와 반대)\n",
    "mask_b_inv = cv2.bitwise_not(mask_b)\n",
    "\n",
    "# 호랑이 이미지에서 사용할 영역의 값만 추출하기(흰부분 가져오고 검은 부분 안 가져옴)\n",
    "sub_psy = psy[94:217, 239:371]\n",
    "img_bg = cv2.bitwise_and(sub_psy, sub_psy, mask = mask_b)\n",
    "img_fg = cv2.bitwise_and(tiger, tiger, mask = mask_b_inv)\n",
    "\n",
    "# cv2.imshow('img_bg', img_bg)\n",
    "# cv2.imshow('img_fg', img_fg)\n",
    "\n",
    "# 두 이미지 합치기\n",
    "bg_fg = cv2.add(img_bg, img_fg)\n",
    "# cv2.imshow('bg_fg',bg_fg)\n",
    "\n",
    "# 원래 이미지에 합성하기\n",
    "psy[94:217, 239:371] = bg_fg\n",
    "cv2.imshow('psy', psy)\n",
    "\n",
    "# cv2.imshow('mask_b', mask_b)\n",
    "# cv2.imshow('mask_b_inv', mask_b_inv)\n",
    "\n",
    "# ROI = 싸이 얼굴영역 추출\n",
    "# 추출된 영역에 호랑이 이미지 합성하기\n",
    "# psy[94:217, 239:371] = tiger\n",
    "\n",
    "# cv2.imshow('psy', psy)\n",
    "# cv2.imshow('tiger',tiger)\n",
    "cv2.waitKey(0)\n",
    "cv2.destroyAllWindows()"
   ]
  },
  {
   "cell_type": "code",
   "execution_count": null,
   "id": "583db3e7-3c8d-47cb-8199-de0a7b69d758",
   "metadata": {},
   "outputs": [],
   "source": [
    "# True = 1\n",
    "# False = 0\n",
    "True + True + True"
   ]
  },
  {
   "cell_type": "code",
   "execution_count": null,
   "id": "2d7900c3-5965-4efb-98bf-ed5ae905e559",
   "metadata": {},
   "outputs": [],
   "source": [
    "# ROI(Region of Image) : 관심영역 : 싸이 얼굴영역"
   ]
  },
  {
   "cell_type": "code",
   "execution_count": 4,
   "id": "fdbf3c88-ab76-40d5-8c68-04e35de6e38f",
   "metadata": {},
   "outputs": [
    {
     "data": {
      "text/plain": [
       "(838, 630, 3)"
      ]
     },
     "execution_count": 4,
     "metadata": {},
     "output_type": "execute_result"
    }
   ],
   "source": [
    "# 컬러 이미지\n",
    "# 세로, 가로, 색상 채널\n",
    "psy.shape"
   ]
  },
  {
   "cell_type": "code",
   "execution_count": 5,
   "id": "8cc06b72-5066-4662-a9af-d99c0e44d305",
   "metadata": {},
   "outputs": [],
   "source": [
    "# 좌 상단 좌표 : 280, 50)\n",
    "# 우하단 좌표: 400, 200\n",
    "# 싸이 얼굴 영역 자르기\n",
    "# [열 = y, 행 = x]\n",
    "sub_psy = psy[94:217, 239:371]\n",
    "cv2.imshow('sub', sub_psy)\n",
    "cv2.waitKey(0)\n",
    "cv2.destroyAllWindows()"
   ]
  },
  {
   "cell_type": "code",
   "execution_count": 6,
   "id": "0fe3b5ae-e5d8-4b02-a433-5210c6d490c0",
   "metadata": {},
   "outputs": [
    {
     "data": {
      "text/plain": [
       "(123, 132, 3)"
      ]
     },
     "execution_count": 6,
     "metadata": {},
     "output_type": "execute_result"
    }
   ],
   "source": [
    "# y = 123\n",
    "# x = 132\n",
    "tiger.shape"
   ]
  },
  {
   "cell_type": "code",
   "execution_count": null,
   "id": "8058a288-03a6-4c22-806b-5db45a17ed66",
   "metadata": {},
   "outputs": [],
   "source": [
    "# 카메라 연동 후 고정된 영역에 마스크 출력하기"
   ]
  },
  {
   "cell_type": "code",
   "execution_count": 10,
   "id": "6875e506-030d-477f-97e4-24fe23e37c69",
   "metadata": {},
   "outputs": [
    {
     "name": "stdout",
     "output_type": "stream",
     "text": [
      "종료\n"
     ]
    }
   ],
   "source": [
    "import cv2\n",
    "\n",
    "cap = cv2.VideoCapture(0)\n",
    "\n",
    "# 한 번만 실행되어도 상관 없음\n",
    "tiger = cv2.imread('images/tiger.png')\n",
    "mask2gray = cv2.cvtColor(tiger, cv2.COLOR_BGR2GRAY)\n",
    "_, mask_b = cv2.threshold(mask2gray, 200, 255, cv2.THRESH_BINARY)\n",
    "mask_b_inv = cv2.bitwise_not(mask_b)\n",
    "\n",
    "while cap.isOpened() :\n",
    "    ret, frame = cap.read()\n",
    "    frame = cv2.flip(frame, 1)\n",
    "\n",
    "    if not ret :\n",
    "        print(\"종료\")\n",
    "        break\n",
    "\n",
    "    sub_frame = frame[ 94:217 , 239:371]\n",
    "    img_bg = cv2.bitwise_and(sub_frame, sub_frame, mask = mask_b)\n",
    "    img_fg = cv2.bitwise_and(tiger,tiger, mask = mask_b_inv)\n",
    "    bg_fg = cv2.add(img_bg,img_fg)\n",
    "    frame[ 94:217 , 239:371] = bg_fg\n",
    "\n",
    "    \n",
    "    cv2.imshow(\"video\", frame)\n",
    "    \n",
    "    key = cv2.waitKey(33)\n",
    "    \n",
    "    if key == 49 :\n",
    "        print(\"종료\")\n",
    "        break\n",
    "        \n",
    "cap.release()\n",
    "cv2.destroyAllWindows()"
   ]
  },
  {
   "cell_type": "code",
   "execution_count": null,
   "id": "a51fcc80-ebbc-41a1-abce-1de207ce26fa",
   "metadata": {},
   "outputs": [],
   "source": []
  },
  {
   "cell_type": "code",
   "execution_count": null,
   "id": "2f4f9a61-8f85-42f1-81ea-ca4886658e06",
   "metadata": {},
   "outputs": [],
   "source": []
  },
  {
   "cell_type": "code",
   "execution_count": null,
   "id": "a41ec15b-e673-4d84-90a8-0108a2100b02",
   "metadata": {},
   "outputs": [],
   "source": []
  }
 ],
 "metadata": {
  "kernelspec": {
   "display_name": "Python 3 (ipykernel)",
   "language": "python",
   "name": "python3"
  },
  "language_info": {
   "codemirror_mode": {
    "name": "ipython",
    "version": 3
   },
   "file_extension": ".py",
   "mimetype": "text/x-python",
   "name": "python",
   "nbconvert_exporter": "python",
   "pygments_lexer": "ipython3",
   "version": "3.8.18"
  }
 },
 "nbformat": 4,
 "nbformat_minor": 5
}
