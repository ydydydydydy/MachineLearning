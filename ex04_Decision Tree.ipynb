{
 "cells": [
  {
   "cell_type": "markdown",
   "id": "783019a0",
   "metadata": {},
   "source": [
    "### Decision Tree 최적의 분리를 찾는 방법"
   ]
  },
  {
   "cell_type": "code",
   "execution_count": 3,
   "id": "c0bf8d5a",
   "metadata": {},
   "outputs": [],
   "source": [
    "# - 불순도 측정: Gini Index (지니계수)\n",
    "# : 분리 후 결과가 하나의 클래스에만 속하는 것, 즉 어떤 기준을 통해 나타난 결과의 불순도(impurity)가 낮은"
   ]
  }
 ],
 "metadata": {
  "kernelspec": {
   "display_name": "Python 3 (ipykernel)",
   "language": "python",
   "name": "python3"
  },
  "language_info": {
   "codemirror_mode": {
    "name": "ipython",
    "version": 3
   },
   "file_extension": ".py",
   "mimetype": "text/x-python",
   "name": "python",
   "nbconvert_exporter": "python",
   "pygments_lexer": "ipython3",
   "version": "3.10.9"
  }
 },
 "nbformat": 4,
 "nbformat_minor": 5
}
